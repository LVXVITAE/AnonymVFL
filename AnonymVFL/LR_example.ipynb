{
 "cells": [
  {
   "cell_type": "markdown",
   "id": "4fcafac6",
   "metadata": {},
   "source": [
    "# LR示例"
   ]
  },
  {
   "cell_type": "markdown",
   "id": "0f1ac923",
   "metadata": {},
   "source": [
    "以下示例仅用于说明LR的工作流程，目前仅支持单机测试。"
   ]
  },
  {
   "cell_type": "markdown",
   "id": "2b6e2a09",
   "metadata": {},
   "source": [
    "PSI"
   ]
  },
  {
   "cell_type": "code",
   "execution_count": 2,
   "id": "4377147c",
   "metadata": {},
   "outputs": [
    {
     "name": "stdout",
     "output_type": "stream",
     "text": [
      "Computing masked company cipher\n",
      "Computing masked partner cipher\n",
      "Computing company shares\n",
      "Computing partner shares\n"
     ]
    }
   ],
   "source": [
    "import pandas as pd\n",
    "import os\n",
    "from PSI import PSICompany, PSIPartner\n",
    "\n",
    "project_dir = os.path.dirname(os.path.abspath(''))\n",
    "data_dir = os.path.join(project_dir, 'Datasets', 'data', 'data')\n",
    "host_data = pd.read_csv(os.path.join(data_dir, 'breast_hetero_host.csv'))\n",
    "guest_data = pd.read_csv(os.path.join(data_dir, 'breast_hetero_guest.csv'))\n",
    "\n",
    "company_key, company_features = host_data['id'], host_data.drop(columns=['id'])\n",
    "partner_key, partner_features = guest_data['id'], guest_data.drop(columns=['id'])\n",
    "company_key = company_key.astype(str)\n",
    "partner_key = partner_key.astype(str)\n",
    "company = PSICompany(company_key, company_features)\n",
    "partner = PSIPartner(partner_key, partner_features)\n",
    "\n",
    "U_c, company_pk = company.exchange()\n",
    "E_c, U_p, partner_pk = partner.exchange(U_c, company_pk)\n",
    "L, R_cI = company.compute_intersection(E_c, U_p, partner_pk)\n",
    "R_pI = partner.output_shares(L)\n",
    "company_share = R_cI[0]\n",
    "partner_share = R_pI[0]"
   ]
  },
  {
   "cell_type": "markdown",
   "id": "12946001",
   "metadata": {},
   "source": [
    "此时share是`np.ndarray`类型。下面将其放入秘密共享设备spu中。\n",
    "目前我暂时还没有找到由share直接构造`SPUObject`的方法。可以暂时使用这个方法："
   ]
  },
  {
   "cell_type": "code",
   "execution_count": 24,
   "id": "fb3dc8ad",
   "metadata": {},
   "outputs": [],
   "source": [
    "from common import MPCInitializer, sigmoid, softmax\n",
    "import secretflow as sf\n",
    "import numpy as np\n",
    "import jax.numpy as jnp\n",
    "mpc_init = MPCInitializer()\n",
    "company, partner, coordinator, spu = mpc_init.company, mpc_init.partner, mpc_init.coordinator, mpc_init.spu\n",
    "# 假设y由company持有\n",
    "label_holder = company\n",
    "\n",
    "def share2spu(X1 : np.ndarray, X2 : np.ndarray):\n",
    "    \"\"\"\n",
    "    X1：由Company持有的share\n",
    "    X2：由Partner持有的share\n",
    "    \"\"\"    \n",
    "    X1, X2 = jnp.array(X1,dtype=jnp.float32), jnp.array(X2,dtype=jnp.float32)\n",
    "    # 将X1，X2分别移动到spu\n",
    "    X1 = sf.to(company, X1).to(spu)\n",
    "    X2 = sf.to(partner, X2).to(spu)\n",
    "    # 再在spu内部相加，得到秘密共享的变量X\n",
    "    def add(X1, X2):\n",
    "        \"\"\"\n",
    "        在SPU中执行加法操作\n",
    "        \"\"\"\n",
    "        return X1 + X2\n",
    "    return spu(add)(X1, X2)"
   ]
  },
  {
   "cell_type": "markdown",
   "id": "3e5f1ebb",
   "metadata": {},
   "source": [
    "划分训练集和测试集"
   ]
  },
  {
   "cell_type": "code",
   "execution_count": null,
   "id": "3757ea5f",
   "metadata": {},
   "outputs": [
    {
     "name": "stderr",
     "output_type": "stream",
     "text": [
      "2025-07-28 19:15:51,484\tERROR worker.py:422 -- Unhandled error (suppress with 'RAY_IGNORE_UNHANDLED_ERRORS=1'): \u001b[36mray::SPURuntime.del_share()\u001b[39m (pid=6761, ip=192.168.251.137, actor_id=9db9b1eec314a615144a1a7e01000000, repr=SPURuntime(device_id=None, party=company))\n",
      "  At least one of the input arguments for this task could not be computed:\n",
      "ray.exceptions.RayTaskError: \u001b[36mray::SPURuntime.run()\u001b[39m (pid=6761, ip=192.168.251.137, actor_id=9db9b1eec314a615144a1a7e01000000, repr=SPURuntime(device_id=None, party=company))\n",
      "  At least one of the input arguments for this task could not be computed:\n",
      "ray.exceptions.RayTaskError: \u001b[36mray::compile_fn()\u001b[39m (pid=6759, ip=192.168.251.137)\n",
      "  File \"/home/lvx_vitae/AnonymVFL/.conda/lib/python3.10/site-packages/spu/utils/frontend.py\", line 269, in compile\n",
      "    name = fn.func.__name__ if isinstance(fn, functools.partial) else fn.__name__\n",
      "AttributeError: 'jaxlib.xla_extension.Frame' object has no attribute '__name__'\n",
      "\n",
      "During handling of the above exception, another exception occurred:\n",
      "\n",
      "\u001b[36mray::compile_fn()\u001b[39m (pid=6759, ip=192.168.251.137)\n",
      "  File \"/home/lvx_vitae/AnonymVFL/.conda/lib/python3.10/site-packages/secretflow/device/device/spu.py\", line 1595, in compile_fn\n",
      "    return _spu_compile(*args, **kwargs)\n",
      "  File \"/home/lvx_vitae/AnonymVFL/.conda/lib/python3.10/site-packages/secretflow/device/device/spu.py\", line 1400, in _spu_compile\n",
      "    raise InternalError.worker_crashed_error(f\"{e}\")\n",
      "  File \"/home/lvx_vitae/AnonymVFL/.conda/lib/python3.10/site-packages/secretflow/error_system/sf_exception.py\", line 255, in wrapper\n",
      "    return inst._format_reason(\n",
      "  File \"/home/lvx_vitae/AnonymVFL/.conda/lib/python3.10/site-packages/secretflow/error_system/sf_exception.py\", line 119, in _format_reason\n",
      "    assert len(args) <= len(\n",
      "AssertionError: Too many args when formatting SFException: (\"'jaxlib.xla_extension.Frame' object has no attribute '__name__'\",)\n",
      "2025-07-28 19:15:51,485\tERROR worker.py:422 -- Unhandled error (suppress with 'RAY_IGNORE_UNHANDLED_ERRORS=1'): \u001b[36mray::SPURuntime.del_share()\u001b[39m (pid=6756, ip=192.168.251.137, actor_id=ccaf237d764d2ea0ec95d6db01000000, repr=SPURuntime(device_id=None, party=coordinator))\n",
      "  At least one of the input arguments for this task could not be computed:\n",
      "ray.exceptions.RayTaskError: \u001b[36mray::SPURuntime.run()\u001b[39m (pid=6756, ip=192.168.251.137, actor_id=ccaf237d764d2ea0ec95d6db01000000, repr=SPURuntime(device_id=None, party=coordinator))\n",
      "  At least one of the input arguments for this task could not be computed:\n",
      "ray.exceptions.RayTaskError: \u001b[36mray::compile_fn()\u001b[39m (pid=6759, ip=192.168.251.137)\n",
      "  File \"/home/lvx_vitae/AnonymVFL/.conda/lib/python3.10/site-packages/spu/utils/frontend.py\", line 269, in compile\n",
      "    name = fn.func.__name__ if isinstance(fn, functools.partial) else fn.__name__\n",
      "AttributeError: 'jaxlib.xla_extension.Frame' object has no attribute '__name__'\n",
      "\n",
      "During handling of the above exception, another exception occurred:\n",
      "\n",
      "\u001b[36mray::compile_fn()\u001b[39m (pid=6759, ip=192.168.251.137)\n",
      "  File \"/home/lvx_vitae/AnonymVFL/.conda/lib/python3.10/site-packages/secretflow/device/device/spu.py\", line 1595, in compile_fn\n",
      "    return _spu_compile(*args, **kwargs)\n",
      "  File \"/home/lvx_vitae/AnonymVFL/.conda/lib/python3.10/site-packages/secretflow/device/device/spu.py\", line 1400, in _spu_compile\n",
      "    raise InternalError.worker_crashed_error(f\"{e}\")\n",
      "  File \"/home/lvx_vitae/AnonymVFL/.conda/lib/python3.10/site-packages/secretflow/error_system/sf_exception.py\", line 255, in wrapper\n",
      "    return inst._format_reason(\n",
      "  File \"/home/lvx_vitae/AnonymVFL/.conda/lib/python3.10/site-packages/secretflow/error_system/sf_exception.py\", line 119, in _format_reason\n",
      "    assert len(args) <= len(\n",
      "AssertionError: Too many args when formatting SFException: (\"'jaxlib.xla_extension.Frame' object has no attribute '__name__'\",)\n",
      "2025-07-28 19:15:51,486\tERROR worker.py:422 -- Unhandled error (suppress with 'RAY_IGNORE_UNHANDLED_ERRORS=1'): \u001b[36mray::SPURuntime.del_share()\u001b[39m (pid=6769, ip=192.168.251.137, actor_id=926c4d7232f6a83eae22675001000000, repr=SPURuntime(device_id=None, party=partner))\n",
      "  At least one of the input arguments for this task could not be computed:\n",
      "ray.exceptions.RayTaskError: \u001b[36mray::SPURuntime.run()\u001b[39m (pid=6769, ip=192.168.251.137, actor_id=926c4d7232f6a83eae22675001000000, repr=SPURuntime(device_id=None, party=partner))\n",
      "  At least one of the input arguments for this task could not be computed:\n",
      "ray.exceptions.RayTaskError: \u001b[36mray::compile_fn()\u001b[39m (pid=6759, ip=192.168.251.137)\n",
      "  File \"/home/lvx_vitae/AnonymVFL/.conda/lib/python3.10/site-packages/spu/utils/frontend.py\", line 269, in compile\n",
      "    name = fn.func.__name__ if isinstance(fn, functools.partial) else fn.__name__\n",
      "AttributeError: 'jaxlib.xla_extension.Frame' object has no attribute '__name__'\n",
      "\n",
      "During handling of the above exception, another exception occurred:\n",
      "\n",
      "\u001b[36mray::compile_fn()\u001b[39m (pid=6759, ip=192.168.251.137)\n",
      "  File \"/home/lvx_vitae/AnonymVFL/.conda/lib/python3.10/site-packages/secretflow/device/device/spu.py\", line 1595, in compile_fn\n",
      "    return _spu_compile(*args, **kwargs)\n",
      "  File \"/home/lvx_vitae/AnonymVFL/.conda/lib/python3.10/site-packages/secretflow/device/device/spu.py\", line 1400, in _spu_compile\n",
      "    raise InternalError.worker_crashed_error(f\"{e}\")\n",
      "  File \"/home/lvx_vitae/AnonymVFL/.conda/lib/python3.10/site-packages/secretflow/error_system/sf_exception.py\", line 255, in wrapper\n",
      "    return inst._format_reason(\n",
      "  File \"/home/lvx_vitae/AnonymVFL/.conda/lib/python3.10/site-packages/secretflow/error_system/sf_exception.py\", line 119, in _format_reason\n",
      "    assert len(args) <= len(\n",
      "AssertionError: Too many args when formatting SFException: (\"'jaxlib.xla_extension.Frame' object has no attribute '__name__'\",)\n"
     ]
    }
   ],
   "source": [
    "from sklearn.model_selection import train_test_split\n",
    "\n",
    "\n",
    "train_1, test_1, train_2, test_2 = train_test_split(\n",
    "    company_share, partner_share)\n",
    "train_X1, train_y1 = train_1[:, :-1], train_1[:, -1]\n",
    "train_X2, train_y2 = train_2[:, :-1], train_2[:, -1]\n",
    "test_X1, test_y1 = test_1[:, :-1], test_1[:, -1]\n",
    "test_X2, test_y2 = test_2[:, :-1], test_2[:, -1]\n",
    "\n",
    "test_X = share2spu(test_X1, test_X2)\n",
    "# 目前的模型在推理状态下，预测值按公开处理，因此测试集的y也公开\n",
    "test_y = test_y1 + test_y2"
   ]
  },
  {
   "cell_type": "markdown",
   "id": "952d25f7",
   "metadata": {},
   "source": [
    "训练集划分batch以实现批量训练"
   ]
  },
  {
   "cell_type": "code",
   "execution_count": 29,
   "id": "9676ca4d",
   "metadata": {},
   "outputs": [],
   "source": [
    "num_samples, num_features = train_X1.shape  # train_X1和train_X2的样本数相同\n",
    "\n",
    "batch_size = 1024\n",
    "Xs = []\n",
    "ys = []\n",
    "for j in range(0,num_samples,batch_size):\n",
    "    batch = min(batch_size,num_samples - j)\n",
    "    X_batch = share2spu(train_X1[j:j+batch], train_X2[j:j+batch])\n",
    "    y_batch = share2spu(train_y1[j:j+batch], train_y2[j:j+batch])\n",
    "    Xs.append(X_batch)\n",
    "    ys.append(y_batch)"
   ]
  },
  {
   "cell_type": "markdown",
   "id": "369aed9e",
   "metadata": {},
   "source": [
    "训练指定的轮次"
   ]
  },
  {
   "cell_type": "code",
   "execution_count": 30,
   "id": "4caa2d86",
   "metadata": {},
   "outputs": [
    {
     "name": "stdout",
     "output_type": "stream",
     "text": [
      "Epoch 1\n"
     ]
    },
    {
     "name": "stderr",
     "output_type": "stream",
     "text": [
      "5it [00:25,  5.07s/it]\n"
     ]
    },
    {
     "ename": "KeyboardInterrupt",
     "evalue": "",
     "output_type": "error",
     "traceback": [
      "\u001b[0;31m---------------------------------------------------------------------------\u001b[0m",
      "\u001b[0;31mKeyboardInterrupt\u001b[0m                         Traceback (most recent call last)",
      "Cell \u001b[0;32mIn[30], line 4\u001b[0m\n\u001b[1;32m      1\u001b[0m \u001b[38;5;28;01mfrom\u001b[39;00m\u001b[38;5;250m \u001b[39m\u001b[38;5;21;01mLR\u001b[39;00m\u001b[38;5;250m \u001b[39m\u001b[38;5;28;01mimport\u001b[39;00m SSLR\n\u001b[1;32m      3\u001b[0m model \u001b[38;5;241m=\u001b[39m SSLR(num_features)\n\u001b[0;32m----> 4\u001b[0m \u001b[43mmodel\u001b[49m\u001b[38;5;241;43m.\u001b[39;49m\u001b[43mfit\u001b[49m\u001b[43m(\u001b[49m\u001b[43mXs\u001b[49m\u001b[43m,\u001b[49m\u001b[43m \u001b[49m\u001b[43mys\u001b[49m\u001b[43m,\u001b[49m\u001b[43m \u001b[49m\u001b[43mn_iter\u001b[49m\u001b[38;5;241;43m=\u001b[39;49m\u001b[38;5;241;43m10\u001b[39;49m\u001b[43m)\u001b[49m\n",
      "File \u001b[0;32m~/AnonymVFL/AnonymVFL/LR.py:101\u001b[0m, in \u001b[0;36mSSLR.fit\u001b[0;34m(self, Xs, ys, n_iter, lr)\u001b[0m\n\u001b[1;32m     99\u001b[0m y_pred \u001b[38;5;241m=\u001b[39m \u001b[38;5;28mself\u001b[39m\u001b[38;5;241m.\u001b[39mforward(X)\n\u001b[1;32m    100\u001b[0m \u001b[38;5;66;03m# 学习率随着迭代次数递减\u001b[39;00m\n\u001b[0;32m--> 101\u001b[0m \u001b[38;5;28;43mself\u001b[39;49m\u001b[38;5;241;43m.\u001b[39;49m\u001b[43mbackward\u001b[49m\u001b[43m(\u001b[49m\u001b[43mX\u001b[49m\u001b[43m,\u001b[49m\u001b[43m \u001b[49m\u001b[43my\u001b[49m\u001b[43m,\u001b[49m\u001b[43m \u001b[49m\u001b[43my_pred\u001b[49m\u001b[43m,\u001b[49m\u001b[43m \u001b[49m\u001b[43mlr\u001b[49m\u001b[43m \u001b[49m\u001b[38;5;241;43m/\u001b[39;49m\u001b[43m \u001b[49m\u001b[43mt\u001b[49m\u001b[43m)\u001b[49m\n",
      "File \u001b[0;32m~/AnonymVFL/AnonymVFL/LR.py:85\u001b[0m, in \u001b[0;36mSSLR.backward\u001b[0;34m(self, X, y, y_pred, lr)\u001b[0m\n\u001b[1;32m     83\u001b[0m     diff \u001b[38;5;241m=\u001b[39m y_pred \u001b[38;5;241m-\u001b[39m y\n\u001b[1;32m     84\u001b[0m     \u001b[38;5;28;01mreturn\u001b[39;00m (\u001b[38;5;241m1\u001b[39m \u001b[38;5;241m-\u001b[39m lambda_) \u001b[38;5;241m*\u001b[39m w \u001b[38;5;241m-\u001b[39m (lr\u001b[38;5;241m/\u001b[39mbatch_size) \u001b[38;5;241m*\u001b[39m (X\u001b[38;5;241m.\u001b[39mtranspose() \u001b[38;5;241m@\u001b[39m diff)\n\u001b[0;32m---> 85\u001b[0m \u001b[38;5;28mself\u001b[39m\u001b[38;5;241m.\u001b[39mw \u001b[38;5;241m=\u001b[39m \u001b[43mspu\u001b[49m\u001b[43m(\u001b[49m\u001b[43mgrad_desc\u001b[49m\u001b[43m)\u001b[49m\u001b[43m(\u001b[49m\u001b[38;5;28;43mself\u001b[39;49m\u001b[38;5;241;43m.\u001b[39;49m\u001b[43mlambda_\u001b[49m\u001b[43m,\u001b[49m\u001b[43m \u001b[49m\u001b[38;5;28;43mself\u001b[39;49m\u001b[38;5;241;43m.\u001b[39;49m\u001b[43mw\u001b[49m\u001b[43m,\u001b[49m\u001b[43m \u001b[49m\u001b[43mX\u001b[49m\u001b[43m,\u001b[49m\u001b[43m \u001b[49m\u001b[43my_pred\u001b[49m\u001b[43m,\u001b[49m\u001b[43m \u001b[49m\u001b[43my\u001b[49m\u001b[43m)\u001b[49m\n",
      "File \u001b[0;32m~/AnonymVFL/.conda/lib/python3.10/site-packages/secretflow/device/device/spu.py:1603\u001b[0m, in \u001b[0;36mSPU.__call__.<locals>.wrapper\u001b[0;34m(*args, **kwargs)\u001b[0m\n\u001b[1;32m   1598\u001b[0m compile_fn\u001b[38;5;241m.\u001b[39m\u001b[38;5;18m__name__\u001b[39m \u001b[38;5;241m=\u001b[39m \u001b[38;5;124mf\u001b[39m\u001b[38;5;124m\"\u001b[39m\u001b[38;5;124mspu_compile(\u001b[39m\u001b[38;5;132;01m{\u001b[39;00mfn_name\u001b[38;5;132;01m}\u001b[39;00m\u001b[38;5;124m)\u001b[39m\u001b[38;5;124m\"\u001b[39m\n\u001b[1;32m   1600\u001b[0m \u001b[38;5;66;03m# it's ok to choose any party to compile,\u001b[39;00m\n\u001b[1;32m   1601\u001b[0m \u001b[38;5;66;03m# here we choose party 0.\u001b[39;00m\n\u001b[1;32m   1602\u001b[0m executable, out_shape \u001b[38;5;241m=\u001b[39m (\n\u001b[0;32m-> 1603\u001b[0m     \u001b[43msfd\u001b[49m\u001b[38;5;241;43m.\u001b[39;49m\u001b[43mremote\u001b[49m\u001b[43m(\u001b[49m\u001b[43mcompile_fn\u001b[49m\u001b[43m)\u001b[49m\n\u001b[1;32m   1604\u001b[0m \u001b[43m    \u001b[49m\u001b[38;5;241;43m.\u001b[39;49m\u001b[43mparty\u001b[49m\u001b[43m(\u001b[49m\u001b[38;5;28;43mself\u001b[39;49m\u001b[38;5;241;43m.\u001b[39;49m\u001b[43mcluster_def\u001b[49m\u001b[43m[\u001b[49m\u001b[38;5;124;43m'\u001b[39;49m\u001b[38;5;124;43mnodes\u001b[39;49m\u001b[38;5;124;43m'\u001b[39;49m\u001b[43m]\u001b[49m\u001b[43m[\u001b[49m\u001b[38;5;241;43m0\u001b[39;49m\u001b[43m]\u001b[49m\u001b[43m[\u001b[49m\u001b[38;5;124;43m'\u001b[39;49m\u001b[38;5;124;43mparty\u001b[39;49m\u001b[38;5;124;43m'\u001b[39;49m\u001b[43m]\u001b[49m\u001b[43m)\u001b[49m\n\u001b[1;32m   1605\u001b[0m \u001b[43m    \u001b[49m\u001b[38;5;241;43m.\u001b[39;49m\u001b[43moptions\u001b[49m\u001b[43m(\u001b[49m\u001b[43mnum_returns\u001b[49m\u001b[38;5;241;43m=\u001b[39;49m\u001b[38;5;241;43m2\u001b[39;49m\u001b[43m)\u001b[49m\n\u001b[1;32m   1606\u001b[0m \u001b[43m    \u001b[49m\u001b[38;5;241;43m.\u001b[39;49m\u001b[43mremote\u001b[49m\u001b[43m(\u001b[49m\u001b[43mfn\u001b[49m\u001b[43m,\u001b[49m\u001b[43m \u001b[49m\u001b[43mcopts\u001b[49m\u001b[43m,\u001b[49m\u001b[43m \u001b[49m\u001b[43mfn_name\u001b[49m\u001b[43m,\u001b[49m\u001b[43m \u001b[49m\u001b[38;5;241;43m*\u001b[39;49m\u001b[43mmeta_args\u001b[49m\u001b[43m,\u001b[49m\u001b[43m \u001b[49m\u001b[38;5;241;43m*\u001b[39;49m\u001b[38;5;241;43m*\u001b[39;49m\u001b[43mmeta_kwargs\u001b[49m\u001b[43m)\u001b[49m\n\u001b[1;32m   1607\u001b[0m )\n\u001b[1;32m   1609\u001b[0m \u001b[38;5;28;01mif\u001b[39;00m num_returns_policy \u001b[38;5;241m==\u001b[39m SPUCompilerNumReturnsPolicy\u001b[38;5;241m.\u001b[39mFROM_COMPILER:\n\u001b[1;32m   1610\u001b[0m     \u001b[38;5;66;03m# Since user choose to use num of returns from compiler result,\u001b[39;00m\n\u001b[1;32m   1611\u001b[0m     \u001b[38;5;66;03m# the compiler result must be revealed to host.\u001b[39;00m\n\u001b[1;32m   1612\u001b[0m     \u001b[38;5;66;03m# Performance may hurt here.\u001b[39;00m\n\u001b[1;32m   1613\u001b[0m     \u001b[38;5;66;03m# However, since we only expose executable here, it's still\u001b[39;00m\n\u001b[1;32m   1614\u001b[0m     \u001b[38;5;66;03m# safe.\u001b[39;00m\n\u001b[1;32m   1615\u001b[0m     executable, out_shape \u001b[38;5;241m=\u001b[39m sfd\u001b[38;5;241m.\u001b[39mget([executable, out_shape])\n",
      "File \u001b[0;32m~/AnonymVFL/.conda/lib/python3.10/site-packages/ray/remote_function.py:282\u001b[0m, in \u001b[0;36mRemoteFunction.options.<locals>.FuncWrapper.remote\u001b[0;34m(self, *args, **kwargs)\u001b[0m\n\u001b[1;32m    281\u001b[0m \u001b[38;5;28;01mdef\u001b[39;00m\u001b[38;5;250m \u001b[39m\u001b[38;5;21mremote\u001b[39m(\u001b[38;5;28mself\u001b[39m, \u001b[38;5;241m*\u001b[39margs, \u001b[38;5;241m*\u001b[39m\u001b[38;5;241m*\u001b[39mkwargs):\n\u001b[0;32m--> 282\u001b[0m     \u001b[38;5;28;01mreturn\u001b[39;00m \u001b[43mfunc_cls\u001b[49m\u001b[38;5;241;43m.\u001b[39;49m\u001b[43m_remote\u001b[49m\u001b[43m(\u001b[49m\n\u001b[1;32m    283\u001b[0m \u001b[43m        \u001b[49m\u001b[43margs\u001b[49m\u001b[38;5;241;43m=\u001b[39;49m\u001b[43margs\u001b[49m\u001b[43m,\u001b[49m\n\u001b[1;32m    284\u001b[0m \u001b[43m        \u001b[49m\u001b[43mkwargs\u001b[49m\u001b[38;5;241;43m=\u001b[39;49m\u001b[43mkwargs\u001b[49m\u001b[43m,\u001b[49m\n\u001b[1;32m    285\u001b[0m \u001b[43m        \u001b[49m\u001b[43mserialized_runtime_env_info\u001b[49m\u001b[38;5;241;43m=\u001b[39;49m\u001b[43mserialized_runtime_env_info\u001b[49m\u001b[43m,\u001b[49m\n\u001b[1;32m    286\u001b[0m \u001b[43m        \u001b[49m\u001b[38;5;241;43m*\u001b[39;49m\u001b[38;5;241;43m*\u001b[39;49m\u001b[43mupdated_options\u001b[49m\u001b[43m,\u001b[49m\n\u001b[1;32m    287\u001b[0m \u001b[43m    \u001b[49m\u001b[43m)\u001b[49m\n",
      "File \u001b[0;32m~/AnonymVFL/.conda/lib/python3.10/site-packages/secretflow_fl/distributed/op_strategy.py:202\u001b[0m, in \u001b[0;36mRemoteFunctionWrapper._remote\u001b[0;34m(self, *args, **kwargs)\u001b[0m\n\u001b[1;32m    201\u001b[0m \u001b[38;5;28;01mdef\u001b[39;00m\u001b[38;5;250m \u001b[39m\u001b[38;5;21m_remote\u001b[39m(\u001b[38;5;28mself\u001b[39m, \u001b[38;5;241m*\u001b[39margs, \u001b[38;5;241m*\u001b[39m\u001b[38;5;241m*\u001b[39mkwargs):\n\u001b[0;32m--> 202\u001b[0m     args, kwargs \u001b[38;5;241m=\u001b[39m \u001b[43mresolve_args\u001b[49m\u001b[43m(\u001b[49m\u001b[38;5;241;43m*\u001b[39;49m\u001b[43margs\u001b[49m\u001b[43m,\u001b[49m\u001b[43m \u001b[49m\u001b[38;5;241;43m*\u001b[39;49m\u001b[38;5;241;43m*\u001b[39;49m\u001b[43mkwargs\u001b[49m\u001b[43m)\u001b[49m\n\u001b[1;32m    203\u001b[0m     \u001b[38;5;28;01mreturn\u001b[39;00m \u001b[38;5;28msuper\u001b[39m()\u001b[38;5;241m.\u001b[39m_remote(\u001b[38;5;241m*\u001b[39margs, \u001b[38;5;241m*\u001b[39m\u001b[38;5;241m*\u001b[39mkwargs)\n",
      "File \u001b[0;32m~/AnonymVFL/.conda/lib/python3.10/site-packages/secretflow/distributed/ray_op.py:41\u001b[0m, in \u001b[0;36mresolve_args\u001b[0;34m(*args, **kwargs)\u001b[0m\n\u001b[1;32m     38\u001b[0m \u001b[38;5;28;01mif\u001b[39;00m \u001b[38;5;129;01mnot\u001b[39;00m refs:\n\u001b[1;32m     39\u001b[0m     \u001b[38;5;28;01mreturn\u001b[39;00m args, kwargs\n\u001b[0;32m---> 41\u001b[0m actual_vals \u001b[38;5;241m=\u001b[39m \u001b[43mray\u001b[49m\u001b[38;5;241;43m.\u001b[39;49m\u001b[43mget\u001b[49m\u001b[43m(\u001b[49m\u001b[38;5;28;43mlist\u001b[39;49m\u001b[43m(\u001b[49m\u001b[43mrefs\u001b[49m\u001b[38;5;241;43m.\u001b[39;49m\u001b[43mvalues\u001b[49m\u001b[43m(\u001b[49m\u001b[43m)\u001b[49m\u001b[43m)\u001b[49m\u001b[43m)\u001b[49m\n\u001b[1;32m     42\u001b[0m \u001b[38;5;28;01mfor\u001b[39;00m pos, actual_val \u001b[38;5;129;01min\u001b[39;00m \u001b[38;5;28mzip\u001b[39m(refs\u001b[38;5;241m.\u001b[39mkeys(), actual_vals):\n\u001b[1;32m     43\u001b[0m     arg_flat[pos] \u001b[38;5;241m=\u001b[39m actual_val\n",
      "File \u001b[0;32m~/AnonymVFL/.conda/lib/python3.10/site-packages/ray/_private/auto_init_hook.py:21\u001b[0m, in \u001b[0;36mwrap_auto_init.<locals>.auto_init_wrapper\u001b[0;34m(*args, **kwargs)\u001b[0m\n\u001b[1;32m     18\u001b[0m \u001b[38;5;129m@wraps\u001b[39m(fn)\n\u001b[1;32m     19\u001b[0m \u001b[38;5;28;01mdef\u001b[39;00m\u001b[38;5;250m \u001b[39m\u001b[38;5;21mauto_init_wrapper\u001b[39m(\u001b[38;5;241m*\u001b[39margs, \u001b[38;5;241m*\u001b[39m\u001b[38;5;241m*\u001b[39mkwargs):\n\u001b[1;32m     20\u001b[0m     auto_init_ray()\n\u001b[0;32m---> 21\u001b[0m     \u001b[38;5;28;01mreturn\u001b[39;00m \u001b[43mfn\u001b[49m\u001b[43m(\u001b[49m\u001b[38;5;241;43m*\u001b[39;49m\u001b[43margs\u001b[49m\u001b[43m,\u001b[49m\u001b[43m \u001b[49m\u001b[38;5;241;43m*\u001b[39;49m\u001b[38;5;241;43m*\u001b[39;49m\u001b[43mkwargs\u001b[49m\u001b[43m)\u001b[49m\n",
      "File \u001b[0;32m~/AnonymVFL/.conda/lib/python3.10/site-packages/ray/_private/client_mode_hook.py:103\u001b[0m, in \u001b[0;36mclient_mode_hook.<locals>.wrapper\u001b[0;34m(*args, **kwargs)\u001b[0m\n\u001b[1;32m    101\u001b[0m     \u001b[38;5;28;01mif\u001b[39;00m func\u001b[38;5;241m.\u001b[39m\u001b[38;5;18m__name__\u001b[39m \u001b[38;5;241m!=\u001b[39m \u001b[38;5;124m\"\u001b[39m\u001b[38;5;124minit\u001b[39m\u001b[38;5;124m\"\u001b[39m \u001b[38;5;129;01mor\u001b[39;00m is_client_mode_enabled_by_default:\n\u001b[1;32m    102\u001b[0m         \u001b[38;5;28;01mreturn\u001b[39;00m \u001b[38;5;28mgetattr\u001b[39m(ray, func\u001b[38;5;241m.\u001b[39m\u001b[38;5;18m__name__\u001b[39m)(\u001b[38;5;241m*\u001b[39margs, \u001b[38;5;241m*\u001b[39m\u001b[38;5;241m*\u001b[39mkwargs)\n\u001b[0;32m--> 103\u001b[0m \u001b[38;5;28;01mreturn\u001b[39;00m \u001b[43mfunc\u001b[49m\u001b[43m(\u001b[49m\u001b[38;5;241;43m*\u001b[39;49m\u001b[43margs\u001b[49m\u001b[43m,\u001b[49m\u001b[43m \u001b[49m\u001b[38;5;241;43m*\u001b[39;49m\u001b[38;5;241;43m*\u001b[39;49m\u001b[43mkwargs\u001b[49m\u001b[43m)\u001b[49m\n",
      "File \u001b[0;32m~/AnonymVFL/.conda/lib/python3.10/site-packages/ray/_private/worker.py:2772\u001b[0m, in \u001b[0;36mget\u001b[0;34m(object_refs, timeout)\u001b[0m\n\u001b[1;32m   2766\u001b[0m     \u001b[38;5;28;01mraise\u001b[39;00m \u001b[38;5;167;01mValueError\u001b[39;00m(\n\u001b[1;32m   2767\u001b[0m         \u001b[38;5;124mf\u001b[39m\u001b[38;5;124m\"\u001b[39m\u001b[38;5;124mInvalid type of object refs, \u001b[39m\u001b[38;5;132;01m{\u001b[39;00m\u001b[38;5;28mtype\u001b[39m(object_refs)\u001b[38;5;132;01m}\u001b[39;00m\u001b[38;5;124m, is given. \u001b[39m\u001b[38;5;124m\"\u001b[39m\n\u001b[1;32m   2768\u001b[0m         \u001b[38;5;124m\"\u001b[39m\u001b[38;5;124m'\u001b[39m\u001b[38;5;124mobject_refs\u001b[39m\u001b[38;5;124m'\u001b[39m\u001b[38;5;124m must either be an ObjectRef or a list of ObjectRefs. \u001b[39m\u001b[38;5;124m\"\u001b[39m\n\u001b[1;32m   2769\u001b[0m     )\n\u001b[1;32m   2771\u001b[0m \u001b[38;5;66;03m# TODO(ujvl): Consider how to allow user to retrieve the ready objects.\u001b[39;00m\n\u001b[0;32m-> 2772\u001b[0m values, debugger_breakpoint \u001b[38;5;241m=\u001b[39m \u001b[43mworker\u001b[49m\u001b[38;5;241;43m.\u001b[39;49m\u001b[43mget_objects\u001b[49m\u001b[43m(\u001b[49m\u001b[43mobject_refs\u001b[49m\u001b[43m,\u001b[49m\u001b[43m \u001b[49m\u001b[43mtimeout\u001b[49m\u001b[38;5;241;43m=\u001b[39;49m\u001b[43mtimeout\u001b[49m\u001b[43m)\u001b[49m\n\u001b[1;32m   2773\u001b[0m \u001b[38;5;28;01mfor\u001b[39;00m i, value \u001b[38;5;129;01min\u001b[39;00m \u001b[38;5;28menumerate\u001b[39m(values):\n\u001b[1;32m   2774\u001b[0m     \u001b[38;5;28;01mif\u001b[39;00m \u001b[38;5;28misinstance\u001b[39m(value, RayError):\n",
      "File \u001b[0;32m~/AnonymVFL/.conda/lib/python3.10/site-packages/ray/_private/worker.py:893\u001b[0m, in \u001b[0;36mWorker.get_objects\u001b[0;34m(self, object_refs, timeout, return_exceptions, skip_deserialization)\u001b[0m\n\u001b[1;32m    883\u001b[0m         \u001b[38;5;28;01mraise\u001b[39;00m \u001b[38;5;167;01mTypeError\u001b[39;00m(\n\u001b[1;32m    884\u001b[0m             \u001b[38;5;124mf\u001b[39m\u001b[38;5;124m\"\u001b[39m\u001b[38;5;124mAttempting to call `get` on the value \u001b[39m\u001b[38;5;132;01m{\u001b[39;00mobject_ref\u001b[38;5;132;01m}\u001b[39;00m\u001b[38;5;124m, \u001b[39m\u001b[38;5;124m\"\u001b[39m\n\u001b[1;32m    885\u001b[0m             \u001b[38;5;124m\"\u001b[39m\u001b[38;5;124mwhich is not an ray.ObjectRef.\u001b[39m\u001b[38;5;124m\"\u001b[39m\n\u001b[1;32m    886\u001b[0m         )\n\u001b[1;32m    888\u001b[0m timeout_ms \u001b[38;5;241m=\u001b[39m (\n\u001b[1;32m    889\u001b[0m     \u001b[38;5;28mint\u001b[39m(timeout \u001b[38;5;241m*\u001b[39m \u001b[38;5;241m1000\u001b[39m) \u001b[38;5;28;01mif\u001b[39;00m timeout \u001b[38;5;129;01mis\u001b[39;00m \u001b[38;5;129;01mnot\u001b[39;00m \u001b[38;5;28;01mNone\u001b[39;00m \u001b[38;5;129;01mand\u001b[39;00m timeout \u001b[38;5;241m!=\u001b[39m \u001b[38;5;241m-\u001b[39m\u001b[38;5;241m1\u001b[39m \u001b[38;5;28;01melse\u001b[39;00m \u001b[38;5;241m-\u001b[39m\u001b[38;5;241m1\u001b[39m\n\u001b[1;32m    890\u001b[0m )\n\u001b[1;32m    891\u001b[0m data_metadata_pairs: List[\n\u001b[1;32m    892\u001b[0m     Tuple[ray\u001b[38;5;241m.\u001b[39m_raylet\u001b[38;5;241m.\u001b[39mBuffer, \u001b[38;5;28mbytes\u001b[39m]\n\u001b[0;32m--> 893\u001b[0m ] \u001b[38;5;241m=\u001b[39m \u001b[38;5;28;43mself\u001b[39;49m\u001b[38;5;241;43m.\u001b[39;49m\u001b[43mcore_worker\u001b[49m\u001b[38;5;241;43m.\u001b[39;49m\u001b[43mget_objects\u001b[49m\u001b[43m(\u001b[49m\n\u001b[1;32m    894\u001b[0m \u001b[43m    \u001b[49m\u001b[43mobject_refs\u001b[49m\u001b[43m,\u001b[49m\n\u001b[1;32m    895\u001b[0m \u001b[43m    \u001b[49m\u001b[43mtimeout_ms\u001b[49m\u001b[43m,\u001b[49m\n\u001b[1;32m    896\u001b[0m \u001b[43m\u001b[49m\u001b[43m)\u001b[49m\n\u001b[1;32m    898\u001b[0m debugger_breakpoint \u001b[38;5;241m=\u001b[39m \u001b[38;5;124mb\u001b[39m\u001b[38;5;124m\"\u001b[39m\u001b[38;5;124m\"\u001b[39m\n\u001b[1;32m    899\u001b[0m \u001b[38;5;28;01mfor\u001b[39;00m data, metadata \u001b[38;5;129;01min\u001b[39;00m data_metadata_pairs:\n",
      "File \u001b[0;32mpython/ray/_raylet.pyx:3190\u001b[0m, in \u001b[0;36mray._raylet.CoreWorker.get_objects\u001b[0;34m()\u001b[0m\n",
      "File \u001b[0;32mpython/ray/includes/common.pxi:83\u001b[0m, in \u001b[0;36mray._raylet.check_status\u001b[0;34m()\u001b[0m\n",
      "\u001b[0;31mKeyboardInterrupt\u001b[0m: "
     ]
    }
   ],
   "source": [
    "from LR import SSLR\n",
    "\n",
    "model = SSLR(num_features)\n",
    "model.fit(Xs, ys, n_iter=10)"
   ]
  },
  {
   "cell_type": "markdown",
   "id": "9479d153",
   "metadata": {},
   "source": [
    "或手动训练，绘制损失曲线"
   ]
  },
  {
   "cell_type": "code",
   "execution_count": null,
   "id": "bfff1d94",
   "metadata": {},
   "outputs": [],
   "source": [
    "import matplotlib.pyplot as plt\n",
    "from sklearn.metrics import accuracy_score\n",
    "from tqdm import tqdm\n",
    "\n",
    "n_iter = 20\n",
    "accs = []\n",
    "max_acc = 0\n",
    "for t in range(1,n_iter + 1):\n",
    "    print(f\"Epoch {t}\")\n",
    "    for X,y in tqdm(zip(Xs, ys)):\n",
    "        y_pred = model.forward(X)\n",
    "        model.backward(X, y, y_pred, 0.1 / t)\n",
    "\n",
    "    y_pred = model.predict(test_X)\n",
    "    Accracy = accuracy_score(test_y, y_pred)\n",
    "    if Accracy > max_acc:\n",
    "        max_acc = Accracy\n",
    "        print(f\"Iteration {t}, Accuracy: {Accracy:.4f}\")\n",
    "    accs.append(Accracy)\n",
    "\n",
    "plt.plot(accs,label = \"SSLR\",color = \"blue\")"
   ]
  }
 ],
 "metadata": {
  "kernelspec": {
   "display_name": "Python 3",
   "language": "python",
   "name": "python3"
  },
  "language_info": {
   "codemirror_mode": {
    "name": "ipython",
    "version": 3
   },
   "file_extension": ".py",
   "mimetype": "text/x-python",
   "name": "python",
   "nbconvert_exporter": "python",
   "pygments_lexer": "ipython3",
   "version": "3.10.18"
  }
 },
 "nbformat": 4,
 "nbformat_minor": 5
}
