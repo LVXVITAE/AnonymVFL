{
 "cells": [
  {
   "cell_type": "markdown",
   "id": "4fcafac6",
   "metadata": {},
   "source": [
    "# LR示例"
   ]
  },
  {
   "cell_type": "markdown",
   "id": "0f1ac923",
   "metadata": {},
   "source": [
    "以下示例仅用于说明LR的工作流程，目前仅支持单机测试。"
   ]
  },
  {
   "cell_type": "markdown",
   "id": "2b6e2a09",
   "metadata": {},
   "source": [
    "PSI"
   ]
  },
  {
   "cell_type": "code",
   "execution_count": 1,
   "id": "4377147c",
   "metadata": {},
   "outputs": [
    {
     "name": "stdout",
     "output_type": "stream",
     "text": [
      "[2025-08-08 16:38:52.248] [info] [thread_pool.cc:30] Create a fixed thread pool with size 15\n",
      "Computing masked company cipher\n",
      "Computing masked partner cipher\n",
      "Computing company shares\n",
      "Computing partner shares\n"
     ]
    }
   ],
   "source": [
    "import pandas as pd\n",
    "import os\n",
    "from PSI import PSICompany, PSIPartner\n",
    "\n",
    "project_dir = os.path.dirname(os.path.abspath(''))\n",
    "data_dir = os.path.join(project_dir, 'Datasets', 'data', 'data')\n",
    "host_data = pd.read_csv(os.path.join(data_dir, 'breast_hetero_host.csv'))\n",
    "guest_data = pd.read_csv(os.path.join(data_dir, 'breast_hetero_guest.csv'))\n",
    "\n",
    "company_key, company_features = host_data['id'], host_data.drop(columns=['id'])\n",
    "partner_key, partner_features = guest_data['id'], guest_data.drop(columns=['id'])\n",
    "company_key = company_key.astype(str)\n",
    "partner_key = partner_key.astype(str)\n",
    "company = PSICompany(company_key, company_features)\n",
    "partner = PSIPartner(partner_key, partner_features)\n",
    "\n",
    "U_c, company_pk = company.exchange()\n",
    "E_c, U_p, partner_pk = partner.exchange(U_c, company_pk)\n",
    "L, R_cI = company.compute_intersection(E_c, U_p, partner_pk)\n",
    "R_pI = partner.output_shares(L)\n",
    "company_share = R_cI[0]\n",
    "partner_share = R_pI[0]"
   ]
  },
  {
   "cell_type": "markdown",
   "id": "12946001",
   "metadata": {},
   "source": [
    "此时share是`np.ndarray`类型。下面将其放入秘密共享设备spu中。\n",
    "目前我暂时还没有找到由share直接构造`SPUObject`的方法。可以暂时使用这个方法："
   ]
  },
  {
   "cell_type": "code",
   "execution_count": 2,
   "id": "fb3dc8ad",
   "metadata": {},
   "outputs": [
    {
     "name": "stderr",
     "output_type": "stream",
     "text": [
      "/home/lvx_vitae/AnonymVFL/.conda/lib/python3.10/site-packages/tqdm/auto.py:21: TqdmWarning: IProgress not found. Please update jupyter and ipywidgets. See https://ipywidgets.readthedocs.io/en/stable/user_install.html\n",
      "  from .autonotebook import tqdm as notebook_tqdm\n",
      "2025-08-08 16:45:01,194\tINFO util.py:154 -- Missing packages: ['ipywidgets']. Run `pip install -U ipywidgets`, then restart the notebook server for rich notebook output.\n",
      "2025-08-08 16:45:01,292\tINFO util.py:154 -- Missing packages: ['ipywidgets']. Run `pip install -U ipywidgets`, then restart the notebook server for rich notebook output.\n",
      "/home/lvx_vitae/AnonymVFL/.conda/lib/python3.10/subprocess.py:1796: RuntimeWarning: os.fork() was called. os.fork() is incompatible with multithreaded code, and JAX is multithreaded, so this will likely lead to a deadlock.\n",
      "  self.pid = _posixsubprocess.fork_exec(\n",
      "/home/lvx_vitae/AnonymVFL/.conda/lib/python3.10/subprocess.py:1796: RuntimeWarning: os.fork() was called. os.fork() is incompatible with multithreaded code, and JAX is multithreaded, so this will likely lead to a deadlock.\n",
      "  self.pid = _posixsubprocess.fork_exec(\n",
      "2025-08-08 16:45:03,522\tINFO worker.py:1841 -- Started a local Ray instance.\n"
     ]
    },
    {
     "name": "stderr",
     "output_type": "stream",
     "text": [
      "\u001b[36m(pyu_fn pid=21128)\u001b[0m An NVIDIA GPU may be present on this machine, but a CUDA-enabled jaxlib is not installed. Falling back to cpu.\n"
     ]
    },
    {
     "name": "stdout",
     "output_type": "stream",
     "text": [
      "\u001b[36m(pyu_fn pid=21128)\u001b[0m [2025-08-08 16:45:06.292] [info] [thread_pool.cc:30] Create a fixed thread pool with size 15\n",
      "\u001b[36m(pyu_fn pid=21128)\u001b[0m [2025-08-08 16:45:06.298] [warning] [openssl_factory.cc:83] Yacl has been configured to use Yacl's entropy source, but unable to find one. Fallback to use openssl's default entropy srouce\n",
      "\u001b[36m(pyu_fn pid=21128)\u001b[0m [2025-08-08 16:45:06.299] [warning] [openssl_factory.cc:83] Yacl has been configured to use Yacl's entropy source, but unable to find one. Fallback to use openssl's default entropy srouce\n",
      "\u001b[36m(SPURuntime(device_id=None, party=coordinator) pid=21129)\u001b[0m 2025-08-08 16:45:07.752 [info] [thread_pool.cc:ThreadPool:30] Create a fixed thread pool with size 15\n",
      "\u001b[36m(pyu_fn pid=21130)\u001b[0m [2025-08-08 16:45:07.678] [warning] [openssl_factory.cc:83] Yacl has been configured to use Yacl's entropy source, but unable to find one. Fallback to use openssl's default entropy srouce\n",
      "\u001b[36m(pyu_fn pid=21130)\u001b[0m [2025-08-08 16:45:07.679] [warning] [openssl_factory.cc:83] Yacl has been configured to use Yacl's entropy source, but unable to find one. Fallback to use openssl's default entropy srouce\n"
     ]
    }
   ],
   "source": [
    "from common import MPCInitializer\n",
    "import secretflow as sf\n",
    "import numpy as np\n",
    "import jax.numpy as jnp\n",
    "mpc_init = MPCInitializer()\n",
    "company, partner, coordinator, spu = mpc_init.company, mpc_init.partner, mpc_init.coordinator, mpc_init.spu\n",
    "# 假设y由company持有\n",
    "label_holder = company\n",
    "\n",
    "def share2spu(X1 : np.ndarray, X2 : np.ndarray):\n",
    "    \"\"\"\n",
    "    X1：由Company持有的share\n",
    "    X2：由Partner持有的share\n",
    "    \"\"\"    \n",
    "    X1, X2 = jnp.array(X1,dtype=jnp.float32), jnp.array(X2,dtype=jnp.float32)\n",
    "    # 将X1，X2分别移动到spu\n",
    "    X1 = sf.to(company, X1).to(spu)\n",
    "    X2 = sf.to(partner, X2).to(spu)\n",
    "    # 再在spu内部相加，得到秘密共享的变量X\n",
    "    def add(X1, X2):\n",
    "        \"\"\"\n",
    "        在SPU中执行加法操作\n",
    "        \"\"\"\n",
    "        return X1 + X2\n",
    "    return spu(add)(X1, X2)"
   ]
  },
  {
   "cell_type": "markdown",
   "id": "3e5f1ebb",
   "metadata": {},
   "source": [
    "划分训练集和测试集"
   ]
  },
  {
   "cell_type": "code",
   "execution_count": 3,
   "id": "3757ea5f",
   "metadata": {},
   "outputs": [
    {
     "name": "stderr",
     "output_type": "stream",
     "text": [
      "WARNING:jax._src.xla_bridge:An NVIDIA GPU may be present on this machine, but a CUDA-enabled jaxlib is not installed. Falling back to cpu.\n"
     ]
    }
   ],
   "source": [
    "from sklearn.model_selection import train_test_split\n",
    "\n",
    "\n",
    "train_1, test_1, train_2, test_2 = train_test_split(\n",
    "    company_share, partner_share)\n",
    "train_X1, train_y1 = train_1[:, :-1], train_1[:, -1].reshape(-1,1)\n",
    "train_X2, train_y2 = train_2[:, :-1], train_2[:, -1].reshape(-1,1)\n",
    "test_X1, test_y1 = test_1[:, :-1], test_1[:, -1].reshape(-1,1)\n",
    "test_X2, test_y2 = test_2[:, :-1], test_2[:, -1].reshape(-1,1)\n",
    "\n",
    "test_X = share2spu(test_X1, test_X2)\n",
    "# 目前的模型在推理状态下，预测值按公开处理，因此测试集的y也公开\n",
    "test_y = test_y1 + test_y2"
   ]
  },
  {
   "cell_type": "markdown",
   "id": "952d25f7",
   "metadata": {},
   "source": [
    "训练集划分batch以实现批量训练"
   ]
  },
  {
   "cell_type": "code",
   "execution_count": 4,
   "id": "9676ca4d",
   "metadata": {},
   "outputs": [],
   "source": [
    "num_samples, num_features = train_X1.shape  # train_X1和train_X2的样本数相同\n",
    "\n",
    "batch_size = 1024\n",
    "Xs = []\n",
    "ys = []\n",
    "for j in range(0,num_samples,batch_size):\n",
    "    batch = min(batch_size,num_samples - j)\n",
    "    X_batch = share2spu(train_X1[j:j+batch], train_X2[j:j+batch])\n",
    "    y_batch = share2spu(train_y1[j:j+batch], train_y2[j:j+batch])\n",
    "    Xs.append(X_batch)\n",
    "    ys.append(y_batch)"
   ]
  },
  {
   "cell_type": "markdown",
   "id": "369aed9e",
   "metadata": {},
   "source": [
    "训练指定的轮次"
   ]
  },
  {
   "cell_type": "code",
   "execution_count": 5,
   "id": "4caa2d86",
   "metadata": {},
   "outputs": [
    {
     "name": "stdout",
     "output_type": "stream",
     "text": [
      "Epoch 1\n"
     ]
    },
    {
     "name": "stderr",
     "output_type": "stream",
     "text": [
      "8it [00:00, 16.95it/s]\n"
     ]
    },
    {
     "name": "stdout",
     "output_type": "stream",
     "text": [
      "Epoch 2\n"
     ]
    },
    {
     "name": "stderr",
     "output_type": "stream",
     "text": [
      "8it [00:00, 20.71it/s]\n"
     ]
    },
    {
     "name": "stdout",
     "output_type": "stream",
     "text": [
      "Epoch 3\n"
     ]
    },
    {
     "name": "stderr",
     "output_type": "stream",
     "text": [
      "8it [00:00, 20.78it/s]\n"
     ]
    },
    {
     "name": "stdout",
     "output_type": "stream",
     "text": [
      "Epoch 4\n"
     ]
    },
    {
     "name": "stderr",
     "output_type": "stream",
     "text": [
      "8it [00:00, 20.54it/s]\n"
     ]
    },
    {
     "name": "stdout",
     "output_type": "stream",
     "text": [
      "Epoch 5\n"
     ]
    },
    {
     "name": "stderr",
     "output_type": "stream",
     "text": [
      "8it [00:00, 19.62it/s]\n"
     ]
    },
    {
     "name": "stdout",
     "output_type": "stream",
     "text": [
      "Epoch 6\n"
     ]
    },
    {
     "name": "stderr",
     "output_type": "stream",
     "text": [
      "8it [00:00, 20.38it/s]\n"
     ]
    },
    {
     "name": "stdout",
     "output_type": "stream",
     "text": [
      "Epoch 7\n"
     ]
    },
    {
     "name": "stderr",
     "output_type": "stream",
     "text": [
      "8it [00:00, 20.72it/s]\n"
     ]
    },
    {
     "name": "stdout",
     "output_type": "stream",
     "text": [
      "Epoch 8\n"
     ]
    },
    {
     "name": "stderr",
     "output_type": "stream",
     "text": [
      "8it [00:00, 20.68it/s]\n"
     ]
    },
    {
     "name": "stdout",
     "output_type": "stream",
     "text": [
      "Epoch 9\n"
     ]
    },
    {
     "name": "stderr",
     "output_type": "stream",
     "text": [
      "8it [00:00, 19.80it/s]\n"
     ]
    },
    {
     "name": "stdout",
     "output_type": "stream",
     "text": [
      "Epoch 10\n"
     ]
    },
    {
     "name": "stderr",
     "output_type": "stream",
     "text": [
      "8it [00:00, 20.51it/s]\n"
     ]
    }
   ],
   "source": [
    "from LR import SSLR\n",
    "\n",
    "model = SSLR(num_features)\n",
    "model.fit(Xs, ys, n_iter=10)"
   ]
  },
  {
   "cell_type": "markdown",
   "id": "9479d153",
   "metadata": {},
   "source": [
    "或手动训练，绘制正确率曲线"
   ]
  },
  {
   "cell_type": "code",
   "execution_count": 12,
   "id": "bfff1d94",
   "metadata": {},
   "outputs": [
    {
     "name": "stdout",
     "output_type": "stream",
     "text": [
      "Epoch 1\n"
     ]
    },
    {
     "name": "stderr",
     "output_type": "stream",
     "text": [
      "0it [00:00, ?it/s]"
     ]
    },
    {
     "name": "stderr",
     "output_type": "stream",
     "text": [
      "8it [00:00, 21.25it/s]\n"
     ]
    },
    {
     "name": "stdout",
     "output_type": "stream",
     "text": [
      "Iteration 1, Accuracy: 0.9996\n",
      "Epoch 2\n"
     ]
    },
    {
     "name": "stderr",
     "output_type": "stream",
     "text": [
      "8it [00:00, 21.24it/s]\n"
     ]
    },
    {
     "name": "stdout",
     "output_type": "stream",
     "text": [
      "Epoch 3\n"
     ]
    },
    {
     "name": "stderr",
     "output_type": "stream",
     "text": [
      "8it [00:00, 20.33it/s]\n"
     ]
    },
    {
     "name": "stdout",
     "output_type": "stream",
     "text": [
      "Epoch 4\n"
     ]
    },
    {
     "name": "stderr",
     "output_type": "stream",
     "text": [
      "8it [00:00, 20.59it/s]\n"
     ]
    },
    {
     "name": "stdout",
     "output_type": "stream",
     "text": [
      "Epoch 5\n"
     ]
    },
    {
     "name": "stderr",
     "output_type": "stream",
     "text": [
      "8it [00:00, 20.92it/s]\n"
     ]
    },
    {
     "name": "stdout",
     "output_type": "stream",
     "text": [
      "Epoch 6\n"
     ]
    },
    {
     "name": "stderr",
     "output_type": "stream",
     "text": [
      "8it [00:00, 21.51it/s]\n"
     ]
    },
    {
     "name": "stdout",
     "output_type": "stream",
     "text": [
      "Epoch 7\n"
     ]
    },
    {
     "name": "stderr",
     "output_type": "stream",
     "text": [
      "8it [00:00, 21.87it/s]\n"
     ]
    },
    {
     "name": "stdout",
     "output_type": "stream",
     "text": [
      "Epoch 8\n"
     ]
    },
    {
     "name": "stderr",
     "output_type": "stream",
     "text": [
      "8it [00:00, 22.19it/s]\n"
     ]
    },
    {
     "name": "stdout",
     "output_type": "stream",
     "text": [
      "Epoch 9\n"
     ]
    },
    {
     "name": "stderr",
     "output_type": "stream",
     "text": [
      "8it [00:00, 21.33it/s]\n"
     ]
    },
    {
     "name": "stdout",
     "output_type": "stream",
     "text": [
      "Epoch 10\n"
     ]
    },
    {
     "name": "stderr",
     "output_type": "stream",
     "text": [
      "8it [00:00, 21.97it/s]\n"
     ]
    },
    {
     "name": "stdout",
     "output_type": "stream",
     "text": [
      "Epoch 11\n"
     ]
    },
    {
     "name": "stderr",
     "output_type": "stream",
     "text": [
      "8it [00:00, 21.94it/s]\n"
     ]
    },
    {
     "name": "stdout",
     "output_type": "stream",
     "text": [
      "Epoch 12\n"
     ]
    },
    {
     "name": "stderr",
     "output_type": "stream",
     "text": [
      "8it [00:00, 22.29it/s]\n"
     ]
    },
    {
     "name": "stdout",
     "output_type": "stream",
     "text": [
      "Epoch 13\n"
     ]
    },
    {
     "name": "stderr",
     "output_type": "stream",
     "text": [
      "8it [00:00, 22.36it/s]\n"
     ]
    },
    {
     "name": "stdout",
     "output_type": "stream",
     "text": [
      "Epoch 14\n"
     ]
    },
    {
     "name": "stderr",
     "output_type": "stream",
     "text": [
      "8it [00:00, 22.19it/s]\n"
     ]
    },
    {
     "name": "stdout",
     "output_type": "stream",
     "text": [
      "Epoch 15\n"
     ]
    },
    {
     "name": "stderr",
     "output_type": "stream",
     "text": [
      "8it [00:00, 21.87it/s]\n"
     ]
    },
    {
     "name": "stdout",
     "output_type": "stream",
     "text": [
      "Epoch 16\n"
     ]
    },
    {
     "name": "stderr",
     "output_type": "stream",
     "text": [
      "8it [00:00, 21.92it/s]\n"
     ]
    },
    {
     "name": "stdout",
     "output_type": "stream",
     "text": [
      "Epoch 17\n"
     ]
    },
    {
     "name": "stderr",
     "output_type": "stream",
     "text": [
      "8it [00:00, 21.49it/s]\n"
     ]
    },
    {
     "name": "stdout",
     "output_type": "stream",
     "text": [
      "Epoch 18\n"
     ]
    },
    {
     "name": "stderr",
     "output_type": "stream",
     "text": [
      "8it [00:00, 22.21it/s]\n"
     ]
    },
    {
     "name": "stdout",
     "output_type": "stream",
     "text": [
      "Epoch 19\n"
     ]
    },
    {
     "name": "stderr",
     "output_type": "stream",
     "text": [
      "8it [00:00, 21.45it/s]\n"
     ]
    },
    {
     "name": "stdout",
     "output_type": "stream",
     "text": [
      "Epoch 20\n"
     ]
    },
    {
     "name": "stderr",
     "output_type": "stream",
     "text": [
      "8it [00:00, 21.65it/s]\n"
     ]
    },
    {
     "data": {
      "text/plain": [
       "[<matplotlib.lines.Line2D at 0x713535c6ffa0>]"
      ]
     },
     "execution_count": 12,
     "metadata": {},
     "output_type": "execute_result"
    },
    {
     "data": {
      "image/png": "[encoded data removed]",
      "text/plain": [
       "<Figure size 640x480 with 1 Axes>"
      ]
     },
     "metadata": {},
     "output_type": "display_data"
    }
   ],
   "source": [
    "import matplotlib.pyplot as plt\n",
    "from sklearn.metrics import accuracy_score\n",
    "from tqdm import tqdm\n",
    "\n",
    "model = SSLR(num_features)\n",
    "n_iter = 20\n",
    "accs = []\n",
    "max_acc = 0\n",
    "for t in range(1,n_iter + 1):\n",
    "    print(f\"Epoch {t}\")\n",
    "    for X,y in tqdm(zip(Xs, ys)):\n",
    "        y_pred = model.forward(X)\n",
    "        model.backward(X, y, y_pred, 0.1 / t)\n",
    "\n",
    "    y_pred = model.predict(test_X)\n",
    "    Accuracy = accuracy_score(test_y, y_pred)\n",
    "    if Accuracy > max_acc:\n",
    "        max_acc = Accuracy\n",
    "        print(f\"Iteration {t}, Accuracy: {Accuracy:.4f}\")\n",
    "    accs.append(Accuracy)\n",
    "\n",
    "plt.plot(accs,label = \"SSLR\",color = \"blue\")"
   ]
  }
 ],
 "metadata": {
  "kernelspec": {
   "display_name": "Python 3",
   "language": "python",
   "name": "python3"
  },
  "language_info": {
   "codemirror_mode": {
    "name": "ipython",
    "version": 3
   },
   "file_extension": ".py",
   "mimetype": "text/x-python",
   "name": "python",
   "nbconvert_exporter": "python",
   "pygments_lexer": "ipython3",
   "version": "3.10.18"
  }
 },
 "nbformat": 4,
 "nbformat_minor": 5
}
