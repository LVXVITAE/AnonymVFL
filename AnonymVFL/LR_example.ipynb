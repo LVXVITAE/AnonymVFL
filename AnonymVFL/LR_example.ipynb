{
 "cells": [
  {
   "cell_type": "markdown",
   "id": "4fcafac6",
   "metadata": {},
   "source": [
    "# LR示例"
   ]
  },
  {
   "cell_type": "markdown",
   "id": "0f1ac923",
   "metadata": {},
   "source": [
    "以下示例仅用于说明LR的工作流程，目前仅支持单机测试。"
   ]
  },
  {
   "cell_type": "markdown",
   "id": "73d568af",
   "metadata": {},
   "source": [
    "初始化mpc设备"
   ]
  },
  {
   "cell_type": "code",
   "execution_count": 1,
   "id": "ecbf00ab",
   "metadata": {},
   "outputs": [
    {
     "name": "stderr",
     "output_type": "stream",
     "text": [
      "/home/lvx_vitae/AnonymVFL/.conda/lib/python3.10/subprocess.py:1796: RuntimeWarning: os.fork() was called. os.fork() is incompatible with multithreaded code, and JAX is multithreaded, so this will likely lead to a deadlock.\n",
      "  self.pid = _posixsubprocess.fork_exec(\n",
      "/home/lvx_vitae/AnonymVFL/.conda/lib/python3.10/subprocess.py:1796: RuntimeWarning: os.fork() was called. os.fork() is incompatible with multithreaded code, and JAX is multithreaded, so this will likely lead to a deadlock.\n",
      "  self.pid = _posixsubprocess.fork_exec(\n",
      "2025-08-28 11:45:52,379\tINFO worker.py:1841 -- Started a local Ray instance.\n"
     ]
    },
    {
     "name": "stdout",
     "output_type": "stream",
     "text": [
      "\u001b[36m(SPURuntime pid=98623)\u001b[0m 2025-08-28 11:45:56.025 [warning] [openssl_factory.cc:OpensslDrbg:83] Yacl has been configured to use Yacl's entropy source, but unable to find one. Fallback to use openssl's default entropy srouce\n",
      "\u001b[36m(SPURuntime pid=98623)\u001b[0m 2025-08-28 11:45:56.027 [warning] [openssl_factory.cc:OpensslDrbg:83] Yacl has been configured to use Yacl's entropy source, but unable to find one. Fallback to use openssl's default entropy srouce\n"
     ]
    },
    {
     "name": "stdout",
     "output_type": "stream",
     "text": [
      "\u001b[36m(HEUSkKeeper(heu_id=134143580238416, party=company) pid=98629)\u001b[0m [2025-08-28 11:46:01.304] [info] [thread_pool.cc:30] Create a fixed thread pool with size 15\n",
      "\u001b[36m(HEUEvaluator(heu_id=134143112857536, party=company) pid=98625)\u001b[0m [2025-08-28 11:46:10.337] [info] [thread_pool.cc:30] Create a fixed thread pool with size 15\u001b[32m [repeated 3x across cluster]\u001b[0m\n",
      "\u001b[36m(pyu_fn pid=98634)\u001b[0m [2025-08-28 11:52:53.220] [info] [thread_pool.cc:30] Create a fixed thread pool with size 15\n",
      "\u001b[36m(pyu_fn pid=98634)\u001b[0m [2025-08-28 11:52:53.231] [warning] [openssl_factory.cc:83] Yacl has been configured to use Yacl's entropy source, but unable to find one. Fallback to use openssl's default entropy srouce\n",
      "\u001b[36m(pyu_fn pid=98634)\u001b[0m [2025-08-28 11:52:53.232] [warning] [openssl_factory.cc:83] Yacl has been configured to use Yacl's entropy source, but unable to find one. Fallback to use openssl's default entropy srouce\n"
     ]
    },
    {
     "name": "stderr",
     "output_type": "stream",
     "text": [
      "\u001b[36m(pyu_fn pid=98634)\u001b[0m 2025-08-28 11:52:53,209,209 INFO [xla_bridge.py:backends:863] Unable to initialize backend 'cuda': \n",
      "\u001b[36m(pyu_fn pid=98634)\u001b[0m 2025-08-28 11:52:53,209,209 INFO [xla_bridge.py:backends:863] Unable to initialize backend 'rocm': module 'jaxlib.xla_extension' has no attribute 'GpuAllocatorConfig'\n",
      "\u001b[36m(pyu_fn pid=98634)\u001b[0m 2025-08-28 11:52:53,210,210 INFO [xla_bridge.py:backends:863] Unable to initialize backend 'tpu': INTERNAL: Failed to open libtpu.so: libtpu.so: cannot open shared object file: No such file or directory\n",
      "\u001b[36m(pyu_fn pid=98634)\u001b[0m 2025-08-28 11:52:53,210,210 WARNING [xla_bridge.py:_suggest_missing_backends:901] An NVIDIA GPU may be present on this machine, but a CUDA-enabled jaxlib is not installed. Falling back to cpu.\n"
     ]
    },
    {
     "name": "stdout",
     "output_type": "stream",
     "text": [
      "\u001b[36m(SPURuntime(device_id=None, party=coordinator) pid=98623)\u001b[0m 2025-08-28 11:52:53.560 [info] [thread_pool.cc:ThreadPool:30] Create a fixed thread pool with size 15\n",
      "\u001b[36m(pyu_fn pid=98630)\u001b[0m Directory '../partner_model' created or already exists.\n",
      "\u001b[36m(pyu_fn pid=98634)\u001b[0m Directory '../company_model' created or already exists.\n"
     ]
    }
   ],
   "source": [
    "from common import MPCInitializer\n",
    "import secretflow as sf\n",
    "mpc_init = MPCInitializer()\n",
    "company, partner, coordinator = mpc_init.company, mpc_init.partner, mpc_init.coordinator\n",
    "spu = mpc_init.spu\n",
    "\n",
    "# 设置设备\n",
    "devices = {\n",
    "    'spu': spu,\n",
    "    'company': company,\n",
    "    'partner': partner,\n",
    "    'coordinator': coordinator,\n",
    "    'active_party': company # 验证集预测结果将揭露给active_party\n",
    "}\n",
    "\n",
    "heu_devices = (mpc_init.company_heu, mpc_init.partner_heu)"
   ]
  },
  {
   "cell_type": "markdown",
   "id": "3f1b60b4",
   "metadata": {},
   "source": [
    "双方读取数据集。数据集为csv格式，应满足第一列为id或键值。其他列为数值型特征。标签列的列标题为'y'。\n",
    "\n",
    "将键值和特征分开读取。"
   ]
  },
  {
   "cell_type": "code",
   "execution_count": 2,
   "id": "25453f8a",
   "metadata": {},
   "outputs": [],
   "source": [
    "import pandas as pd\n",
    "import os\n",
    "import numpy as np\n",
    "project_dir = os.path.dirname(os.path.abspath(''))\n",
    "\n",
    "def read_dataset(path: str):\n",
    "    data = pd.read_csv(path)\n",
    "    keys = data.iloc[:, 0].astype(str).tolist()\n",
    "    private_features = data.iloc[:, 1:].to_numpy(dtype=np.float32)\n",
    "    header = data.columns.tolist()\n",
    "    return (keys, private_features,None), header\n",
    "company_data, company_header = company(read_dataset,num_returns=2)(os.path.join(project_dir, 'Datasets/data/data/breast_hetero_host.csv'))\n",
    "partner_data, partner_header = partner(read_dataset,num_returns=2)(os.path.join(project_dir, 'Datasets/data/data/breast_hetero_guest.csv'))\n",
    "company_header = sf.reveal(company_header)\n",
    "partner_header = sf.reveal(partner_header)\n",
    "#输出交集的列标题\n",
    "header = company_header[1:] + partner_header[1:]\n",
    "#记录标签列的索引\n",
    "y_col = header.index('y')"
   ]
  },
  {
   "cell_type": "markdown",
   "id": "129e3389",
   "metadata": {},
   "source": [
    "执行PSI\n",
    "\n",
    "求交后得到交集共享分片，分别由company和partner持有。原本company数据的特征在share的左侧，partner数据的特征在右侧。"
   ]
  },
  {
   "cell_type": "code",
   "execution_count": 3,
   "id": "4a892e19",
   "metadata": {},
   "outputs": [
    {
     "name": "stdout",
     "output_type": "stream",
     "text": [
      "Computing masked company cipher\n",
      "Computing masked partner cipher\n",
      "Computing company shares\n",
      "Computing partner shares\n"
     ]
    },
    {
     "data": {
      "text/plain": [
       "<secretflow.device.device.pyu.PYUObject at 0x7a00a041fbb0>"
      ]
     },
     "execution_count": 3,
     "metadata": {},
     "output_type": "execute_result"
    }
   ],
   "source": [
    "from PSI import private_set_intersection\n",
    "company_share, partner_share, bucket_labels = private_set_intersection(company_data, partner_data,heu_devices)\n",
    "company_share.device(np.savetxt)('../company_share.csv',company_share, delimiter=',')\n",
    "partner_share.device(np.savetxt)('../partner_share.csv',partner_share, delimiter=',')"
   ]
  },
  {
   "cell_type": "markdown",
   "id": "3e5f1ebb",
   "metadata": {},
   "source": [
    "划分训练集和测试集"
   ]
  },
  {
   "cell_type": "code",
   "execution_count": 4,
   "id": "3757ea5f",
   "metadata": {},
   "outputs": [],
   "source": [
    "from secretflow.data.split import train_test_split\n",
    "from secretflow.data.ndarray import load\n",
    "shares = load({company: company_share, partner: partner_share})\n",
    "train_shares, test_shares = train_test_split(shares,test_size=0.2)\n",
    "def split_X_y(share):\n",
    "    X = np.delete(share, y_col, axis=1)\n",
    "    y = share[:, y_col].reshape(-1, 1)\n",
    "    return X, y\n",
    "\n",
    "def share2spu(company_share, partner_share):\n",
    "    company_share = company_share.to(spu)\n",
    "    partner_share = partner_share.to(spu)\n",
    "    return spu(lambda x, y : x + y)(company_share, partner_share)\n",
    "\n",
    "X_train_company, y_train_company = company(split_X_y,num_returns=2)(train_shares.partitions[company])\n",
    "X_train_partner, y_train_partner = partner(split_X_y,num_returns=2)(train_shares.partitions[partner])\n",
    "X_train = share2spu(X_train_company, X_train_partner)\n",
    "y_train = company(lambda x, y : x + y)(y_train_company, y_train_partner.to(devices['active_party']))\n",
    "\n",
    "X_test_company, y_test_company = company(split_X_y,num_returns=2)(test_shares.partitions[company])\n",
    "X_test_partner, y_test_partner = partner(split_X_y,num_returns=2)(test_shares.partitions[partner])\n",
    "X_test = share2spu(X_test_company, X_test_partner)\n",
    "y_test = company(lambda x, y : x + y)(y_test_company, y_test_partner.to(devices['active_party']))\n"
   ]
  },
  {
   "cell_type": "markdown",
   "id": "369aed9e",
   "metadata": {},
   "source": [
    "训练指定的轮次"
   ]
  },
  {
   "cell_type": "code",
   "execution_count": 5,
   "id": "6b93c714",
   "metadata": {},
   "outputs": [
    {
     "name": "stderr",
     "output_type": "stream",
     "text": [
      "  0%|          | 0/8 [00:00<?, ?it/s]WARNING:jax._src.xla_bridge:An NVIDIA GPU may be present on this machine, but a CUDA-enabled jaxlib is not installed. Falling back to cpu.\n",
      "100%|██████████| 8/8 [00:00<00:00, 114.99it/s]\n"
     ]
    },
    {
     "name": "stdout",
     "output_type": "stream",
     "text": [
      "Epoch 1\n"
     ]
    },
    {
     "name": "stderr",
     "output_type": "stream",
     "text": [
      "3it [00:00,  5.23it/s]"
     ]
    },
    {
     "name": "stdout",
     "output_type": "stream",
     "text": [
      "Iteration 0, Accuracy: 1.0000\n"
     ]
    },
    {
     "name": "stderr",
     "output_type": "stream",
     "text": [
      "8it [00:01,  7.38it/s]\n"
     ]
    },
    {
     "name": "stdout",
     "output_type": "stream",
     "text": [
      "Epoch 2\n"
     ]
    },
    {
     "name": "stderr",
     "output_type": "stream",
     "text": [
      "6it [00:00, 13.21it/s]"
     ]
    },
    {
     "name": "stdout",
     "output_type": "stream",
     "text": [
      "Iteration 10, Accuracy: 1.0000\n"
     ]
    },
    {
     "name": "stderr",
     "output_type": "stream",
     "text": [
      "8it [00:00, 13.62it/s]\n"
     ]
    },
    {
     "name": "stdout",
     "output_type": "stream",
     "text": [
      "Epoch 3\n"
     ]
    },
    {
     "name": "stderr",
     "output_type": "stream",
     "text": [
      "8it [00:00, 13.64it/s]\n"
     ]
    },
    {
     "name": "stdout",
     "output_type": "stream",
     "text": [
      "Iteration 20, Accuracy: 1.0000\n",
      "Epoch 4\n"
     ]
    },
    {
     "name": "stderr",
     "output_type": "stream",
     "text": [
      "8it [00:00, 12.98it/s]\n"
     ]
    },
    {
     "name": "stdout",
     "output_type": "stream",
     "text": [
      "Iteration 30, Accuracy: 1.0000\n",
      "Epoch 5\n"
     ]
    },
    {
     "name": "stderr",
     "output_type": "stream",
     "text": [
      "8it [00:00, 14.94it/s]\n"
     ]
    },
    {
     "name": "stdout",
     "output_type": "stream",
     "text": [
      "Epoch 6\n"
     ]
    },
    {
     "name": "stderr",
     "output_type": "stream",
     "text": [
      "1it [00:00,  8.11it/s]"
     ]
    },
    {
     "name": "stdout",
     "output_type": "stream",
     "text": [
      "Iteration 40, Accuracy: 1.0000\n"
     ]
    },
    {
     "name": "stderr",
     "output_type": "stream",
     "text": [
      "8it [00:00, 14.43it/s]\n"
     ]
    },
    {
     "name": "stdout",
     "output_type": "stream",
     "text": [
      "Epoch 7\n"
     ]
    },
    {
     "name": "stderr",
     "output_type": "stream",
     "text": [
      "6it [00:00, 13.96it/s]"
     ]
    },
    {
     "name": "stdout",
     "output_type": "stream",
     "text": [
      "Iteration 50, Accuracy: 1.0000\n"
     ]
    },
    {
     "name": "stderr",
     "output_type": "stream",
     "text": [
      "8it [00:00, 14.21it/s]\n"
     ]
    },
    {
     "name": "stdout",
     "output_type": "stream",
     "text": [
      "Epoch 8\n"
     ]
    },
    {
     "name": "stderr",
     "output_type": "stream",
     "text": [
      "8it [00:00, 14.28it/s]\n"
     ]
    },
    {
     "name": "stdout",
     "output_type": "stream",
     "text": [
      "Iteration 60, Accuracy: 1.0000\n",
      "Epoch 9\n"
     ]
    },
    {
     "name": "stderr",
     "output_type": "stream",
     "text": [
      "8it [00:00, 13.68it/s]\n"
     ]
    },
    {
     "name": "stdout",
     "output_type": "stream",
     "text": [
      "Iteration 70, Accuracy: 1.0000\n",
      "Epoch 10\n"
     ]
    },
    {
     "name": "stderr",
     "output_type": "stream",
     "text": [
      "8it [00:00, 15.64it/s]\n"
     ]
    },
    {
     "data": {
      "text/plain": [
       "[<matplotlib.lines.Line2D at 0x79fe48338940>]"
      ]
     },
     "execution_count": 5,
     "metadata": {},
     "output_type": "execute_result"
    },
    {
     "data": {
      "image/png": "[encoded data removed]",
      "text/plain": [
       "<Figure size 640x480 with 1 Axes>"
      ]
     },
     "metadata": {},
     "output_type": "display_data"
    }
   ],
   "source": [
    "from LR import SSLR\n",
    "import matplotlib.pyplot as plt\n",
    "\n",
    "model = SSLR(devices, approx=False)\n",
    "accs = model.fit(X_train, y_train, X_test, y_test, n_epochs=10, batch_size=1024, val_steps=10, lr=0.1)\n",
    "model.save({\n",
    "    'company': '../company_model',\n",
    "    'partner': '../partner_model',\n",
    "},ext='csv')\n",
    "plt.plot(accs,label = \"SSLR\",color = \"blue\")\n"
   ]
  }
 ],
 "metadata": {
  "kernelspec": {
   "display_name": "Python 3",
   "language": "python",
   "name": "python3"
  },
  "language_info": {
   "codemirror_mode": {
    "name": "ipython",
    "version": 3
   },
   "file_extension": ".py",
   "mimetype": "text/x-python",
   "name": "python",
   "nbconvert_exporter": "python",
   "pygments_lexer": "ipython3",
   "version": "3.10.18"
  }
 },
 "nbformat": 4,
 "nbformat_minor": 5
}
