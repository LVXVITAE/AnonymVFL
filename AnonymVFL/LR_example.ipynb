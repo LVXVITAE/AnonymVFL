{
 "cells": [
  {
   "cell_type": "markdown",
   "id": "4fcafac6",
   "metadata": {},
   "source": [
    "# LR示例"
   ]
  },
  {
   "cell_type": "markdown",
   "id": "0f1ac923",
   "metadata": {},
   "source": [
    "以下示例仅用于说明LR的工作流程，目前仅支持单机测试。"
   ]
  },
  {
   "cell_type": "markdown",
   "id": "73d568af",
   "metadata": {},
   "source": [
    "初始化mpc设备"
   ]
  },
  {
   "cell_type": "code",
   "execution_count": 1,
   "id": "ecbf00ab",
   "metadata": {},
   "outputs": [
    {
     "name": "stderr",
     "output_type": "stream",
     "text": [
      "/home/lvx_vitae/anaconda3/envs/sf/lib/python3.10/site-packages/tqdm/auto.py:21: TqdmWarning: IProgress not found. Please update jupyter and ipywidgets. See https://ipywidgets.readthedocs.io/en/stable/user_install.html\n",
      "  from .autonotebook import tqdm as notebook_tqdm\n",
      "2025-08-29 12:11:17,807\tINFO util.py:154 -- Missing packages: ['ipywidgets']. Run `pip install -U ipywidgets`, then restart the notebook server for rich notebook output.\n",
      "2025-08-29 12:11:18,130\tINFO util.py:154 -- Missing packages: ['ipywidgets']. Run `pip install -U ipywidgets`, then restart the notebook server for rich notebook output.\n",
      "/home/lvx_vitae/anaconda3/envs/sf/lib/python3.10/subprocess.py:1796: RuntimeWarning: os.fork() was called. os.fork() is incompatible with multithreaded code, and JAX is multithreaded, so this will likely lead to a deadlock.\n",
      "  self.pid = _posixsubprocess.fork_exec(\n",
      "/home/lvx_vitae/anaconda3/envs/sf/lib/python3.10/subprocess.py:1796: RuntimeWarning: os.fork() was called. os.fork() is incompatible with multithreaded code, and JAX is multithreaded, so this will likely lead to a deadlock.\n",
      "  self.pid = _posixsubprocess.fork_exec(\n",
      "2025-08-29 12:11:20,567\tINFO worker.py:1841 -- Started a local Ray instance.\n"
     ]
    },
    {
     "name": "stdout",
     "output_type": "stream",
     "text": [
      "\u001b[36m(SPURuntime pid=2004)\u001b[0m 2025-08-29 12:11:24.046 [warning] [openssl_factory.cc:OpensslDrbg:83] Yacl has been configured to use Yacl's entropy source, but unable to find one. Fallback to use openssl's default entropy srouce\n",
      "\u001b[36m(SPURuntime pid=2004)\u001b[0m 2025-08-29 12:11:24.052 [warning] [openssl_factory.cc:OpensslDrbg:83] Yacl has been configured to use Yacl's entropy source, but unable to find one. Fallback to use openssl's default entropy srouce\n"
     ]
    },
    {
     "name": "stdout",
     "output_type": "stream",
     "text": [
      "\u001b[36m(HEUSkKeeper(heu_id=133216264152512, party=company) pid=2006)\u001b[0m [2025-08-29 12:11:30.035] [info] [thread_pool.cc:30] Create a fixed thread pool with size 15\n",
      "\u001b[36m(HEUEvaluator(heu_id=133215871531856, party=company) pid=2011)\u001b[0m [2025-08-29 12:11:37.348] [info] [thread_pool.cc:30] Create a fixed thread pool with size 15\u001b[32m [repeated 3x across cluster]\u001b[0m\n",
      "\u001b[36m(pyu_fn pid=2012)\u001b[0m [2025-08-29 12:17:17.771] [info] [thread_pool.cc:30] Create a fixed thread pool with size 15\n",
      "\u001b[36m(pyu_fn pid=2012)\u001b[0m [2025-08-29 12:17:17.785] [warning] [openssl_factory.cc:83] Yacl has been configured to use Yacl's entropy source, but unable to find one. Fallback to use openssl's default entropy srouce\n",
      "\u001b[36m(pyu_fn pid=2012)\u001b[0m [2025-08-29 12:17:17.786] [warning] [openssl_factory.cc:83] Yacl has been configured to use Yacl's entropy source, but unable to find one. Fallback to use openssl's default entropy srouce\n"
     ]
    },
    {
     "name": "stderr",
     "output_type": "stream",
     "text": [
      "\u001b[36m(pyu_fn pid=2012)\u001b[0m 2025-08-29 12:17:17,749,749 INFO [xla_bridge.py:backends:863] Unable to initialize backend 'cuda': \n",
      "\u001b[36m(pyu_fn pid=2012)\u001b[0m 2025-08-29 12:17:17,749,749 INFO [xla_bridge.py:backends:863] Unable to initialize backend 'rocm': module 'jaxlib.xla_extension' has no attribute 'GpuAllocatorConfig'\n",
      "\u001b[36m(pyu_fn pid=2012)\u001b[0m 2025-08-29 12:17:17,756,756 INFO [xla_bridge.py:backends:863] Unable to initialize backend 'tpu': INTERNAL: Failed to open libtpu.so: libtpu.so: cannot open shared object file: No such file or directory\n",
      "\u001b[36m(pyu_fn pid=2012)\u001b[0m 2025-08-29 12:17:17,757,757 WARNING [xla_bridge.py:_suggest_missing_backends:901] An NVIDIA GPU may be present on this machine, but a CUDA-enabled jaxlib is not installed. Falling back to cpu.\n"
     ]
    },
    {
     "name": "stdout",
     "output_type": "stream",
     "text": [
      "\u001b[36m(SPURuntime(device_id=None, party=company) pid=2004)\u001b[0m 2025-08-29 12:17:19.747 [info] [thread_pool.cc:ThreadPool:30] Create a fixed thread pool with size 15\n"
     ]
    },
    {
     "name": "stderr",
     "output_type": "stream",
     "text": [
      "\u001b[36m(pyu_fn pid=2019)\u001b[0m 2025-08-29 12:17:22,248,248 INFO [xla_bridge.py:backends:863] Unable to initialize backend 'cuda': \n",
      "\u001b[36m(pyu_fn pid=2019)\u001b[0m 2025-08-29 12:17:22,248,248 INFO [xla_bridge.py:backends:863] Unable to initialize backend 'rocm': module 'jaxlib.xla_extension' has no attribute 'GpuAllocatorConfig'\n",
      "\u001b[36m(pyu_fn pid=2019)\u001b[0m 2025-08-29 12:17:22,249,249 INFO [xla_bridge.py:backends:863] Unable to initialize backend 'tpu': INTERNAL: Failed to open libtpu.so: libtpu.so: cannot open shared object file: No such file or directory\n",
      "\u001b[36m(pyu_fn pid=2019)\u001b[0m 2025-08-29 12:17:22,249,249 WARNING [xla_bridge.py:_suggest_missing_backends:901] An NVIDIA GPU may be present on this machine, but a CUDA-enabled jaxlib is not installed. Falling back to cpu.\n"
     ]
    },
    {
     "name": "stdout",
     "output_type": "stream",
     "text": [
      "\u001b[36m(pyu_fn pid=2019)\u001b[0m [2025-08-29 12:17:22.293] [warning] [openssl_factory.cc:83] Yacl has been configured to use Yacl's entropy source, but unable to find one. Fallback to use openssl's default entropy srouce\n",
      "\u001b[36m(pyu_fn pid=2019)\u001b[0m [2025-08-29 12:17:22.294] [warning] [openssl_factory.cc:83] Yacl has been configured to use Yacl's entropy source, but unable to find one. Fallback to use openssl's default entropy srouce\n",
      "\u001b[36m(pyu_fn pid=2012)\u001b[0m Directory '../models/lr_partner' created or already exists.\n",
      "\u001b[36m(pyu_fn pid=2019)\u001b[0m Directory '../models/lr_company' created or already exists.\n"
     ]
    }
   ],
   "source": [
    "from common import MPCInitializer\n",
    "import secretflow as sf\n",
    "mpc_init = MPCInitializer()\n",
    "company, partner, coordinator = mpc_init.company, mpc_init.partner, mpc_init.coordinator\n",
    "spu = mpc_init.spu\n",
    "\n",
    "# 设置设备\n",
    "devices = {\n",
    "    'spu': spu,\n",
    "    'company': company,\n",
    "    'partner': partner,\n",
    "    'coordinator': coordinator,\n",
    "}\n",
    "\n",
    "heu_devices = (mpc_init.company_heu, mpc_init.partner_heu)"
   ]
  },
  {
   "cell_type": "markdown",
   "id": "3f1b60b4",
   "metadata": {},
   "source": [
    "双方读取数据集。数据集为csv格式，应包含id列\"id\"和标签列\"y\"。id列为字符串，其他列为数值型特征。\n",
    "\n",
    "将键值和特征分开读取。"
   ]
  },
  {
   "cell_type": "code",
   "execution_count": null,
   "id": "25453f8a",
   "metadata": {},
   "outputs": [],
   "source": [
    "import pandas as pd\n",
    "import os\n",
    "import numpy as np\n",
    "project_dir = os.path.dirname(os.path.abspath(''))\n",
    "\n",
    "def read_dataset(path: str):\n",
    "    data = pd.read_csv(path)\n",
    "    keys = data['id'].astype(str).tolist()\n",
    "    private_features = data.drop(columns=['id']).to_numpy(dtype=np.float32)\n",
    "    header = data.columns.tolist()\n",
    "    return (keys, private_features,None), header\n",
    "company_data, company_header = company(read_dataset,num_returns=2)(os.path.join(project_dir, 'Datasets/data/data/breast_hetero_host.csv'))\n",
    "partner_data, partner_header = partner(read_dataset,num_returns=2)(os.path.join(project_dir, 'Datasets/data/data/breast_hetero_guest.csv'))\n",
    "company_header = sf.reveal(company_header)\n",
    "partner_header = sf.reveal(partner_header)\n",
    "# active_party一般为标签的持有者\n",
    "if 'y' in company_header:\n",
    "    devices['active_party'] = company\n",
    "elif 'y' in partner_header:\n",
    "    devices['active_party'] = partner\n",
    "else:\n",
    "    raise ValueError(\"标签列'y'未找到\")\n",
    "#输出交集的列标题\n",
    "header = company_header[1:] + partner_header[1:]\n",
    "#记录标签列的索引\n",
    "y_col = header.index('y')"
   ]
  },
  {
   "cell_type": "markdown",
   "id": "129e3389",
   "metadata": {},
   "source": [
    "执行PSI\n",
    "\n",
    "求交后得到交集共享分片，分别由company和partner持有。原本company数据的特征在share的左侧，partner数据的特征在右侧。"
   ]
  },
  {
   "cell_type": "code",
   "execution_count": 3,
   "id": "4a892e19",
   "metadata": {},
   "outputs": [
    {
     "name": "stdout",
     "output_type": "stream",
     "text": [
      "Computing masked company cipher\n",
      "Computing masked partner cipher\n",
      "Computing company shares\n",
      "Computing partner shares\n"
     ]
    },
    {
     "data": {
      "text/plain": [
       "<secretflow.device.device.pyu.PYUObject at 0x7928bcbba3e0>"
      ]
     },
     "execution_count": 3,
     "metadata": {},
     "output_type": "execute_result"
    }
   ],
   "source": [
    "from PSI import private_set_intersection\n",
    "company_share, partner_share, bucket_labels = private_set_intersection(company_data, partner_data,heu_devices)\n",
    "company_share.device(np.savetxt)('../company_share.csv',company_share, delimiter=',')\n",
    "partner_share.device(np.savetxt)('../partner_share.csv',partner_share, delimiter=',')"
   ]
  },
  {
   "cell_type": "markdown",
   "id": "3e5f1ebb",
   "metadata": {},
   "source": [
    "将训练集转移到对应设备"
   ]
  },
  {
   "cell_type": "code",
   "execution_count": 4,
   "id": "3757ea5f",
   "metadata": {},
   "outputs": [],
   "source": [
    "from secretflow.data.ndarray import load\n",
    "def split_X_y(share):\n",
    "    X = np.delete(share, y_col, axis=1)\n",
    "    y = share[:, y_col].reshape(-1, 1)\n",
    "    return X, y\n",
    "\n",
    "def share2spu(company_share, partner_share):\n",
    "    company_share = company_share.to(spu)\n",
    "    partner_share = partner_share.to(spu)\n",
    "    return spu(lambda x, y : x + y)(company_share, partner_share)\n",
    "\n",
    "X_train_company, y_train_company = company(split_X_y,num_returns=2)(company_share)\n",
    "X_train_partner, y_train_partner = partner(split_X_y,num_returns=2)(partner_share)\n",
    "X_train = share2spu(X_train_company, X_train_partner)\n",
    "y_train = devices['active_party'](lambda x, y : x + y)(y_train_company.to(devices['active_party']), y_train_partner.to(devices['active_party']))\n"
   ]
  },
  {
   "cell_type": "markdown",
   "id": "f10da6cb",
   "metadata": {},
   "source": [
    "读取验证集"
   ]
  },
  {
   "cell_type": "code",
   "execution_count": 5,
   "id": "c3444318",
   "metadata": {},
   "outputs": [],
   "source": [
    "def read_val_dataset(path):\n",
    "    data = pd.read_csv(path)\n",
    "    private_features = data.iloc[:, 1:].to_numpy(dtype=np.float32)\n",
    "    return private_features\n",
    "X_test_company = company(read_val_dataset)(os.path.join(project_dir, 'Datasets/data/data/breast_hetero_host_test.csv'))\n",
    "X_test_partner = partner(read_val_dataset)(os.path.join(project_dir, 'Datasets/data/data/breast_hetero_guest_test.csv'))\n",
    "X_test_partner, y_test = partner(lambda arr : (arr[:,:-1], arr[:,-1].reshape(-1,1)),num_returns=2)(X_test_partner)\n",
    "X_test = load({company: X_test_company, partner: X_test_partner})\n"
   ]
  },
  {
   "cell_type": "markdown",
   "id": "369aed9e",
   "metadata": {},
   "source": [
    "训练指定的轮次"
   ]
  },
  {
   "cell_type": "code",
   "execution_count": 6,
   "id": "6b93c714",
   "metadata": {},
   "outputs": [
    {
     "name": "stderr",
     "output_type": "stream",
     "text": [
      "  0%|          | 0/8 [00:00<?, ?it/s]WARNING:jax._src.xla_bridge:An NVIDIA GPU may be present on this machine, but a CUDA-enabled jaxlib is not installed. Falling back to cpu.\n",
      "100%|██████████| 8/8 [00:00<00:00, 90.73it/s]\n"
     ]
    },
    {
     "name": "stdout",
     "output_type": "stream",
     "text": [
      "Epoch 1\n"
     ]
    },
    {
     "name": "stderr",
     "output_type": "stream",
     "text": [
      "3it [00:00,  4.06it/s]"
     ]
    },
    {
     "name": "stdout",
     "output_type": "stream",
     "text": [
      "Step 0, Accuracy: 1.0000\n"
     ]
    },
    {
     "name": "stderr",
     "output_type": "stream",
     "text": [
      "8it [00:02,  3.34it/s]\n"
     ]
    },
    {
     "name": "stdout",
     "output_type": "stream",
     "text": [
      "Epoch 2\n"
     ]
    },
    {
     "name": "stderr",
     "output_type": "stream",
     "text": [
      "6it [00:00, 12.22it/s]"
     ]
    },
    {
     "name": "stdout",
     "output_type": "stream",
     "text": [
      "Step 10, Accuracy: 1.0000\n"
     ]
    },
    {
     "name": "stderr",
     "output_type": "stream",
     "text": [
      "8it [00:00, 11.19it/s]\n"
     ]
    },
    {
     "name": "stdout",
     "output_type": "stream",
     "text": [
      "Epoch 3\n"
     ]
    },
    {
     "name": "stderr",
     "output_type": "stream",
     "text": [
      "6it [00:00, 11.42it/s]"
     ]
    },
    {
     "name": "stdout",
     "output_type": "stream",
     "text": [
      "Step 20, Accuracy: 1.0000\n"
     ]
    },
    {
     "name": "stderr",
     "output_type": "stream",
     "text": [
      "8it [00:00, 12.36it/s]\n"
     ]
    },
    {
     "name": "stdout",
     "output_type": "stream",
     "text": [
      "Epoch 4\n"
     ]
    },
    {
     "name": "stderr",
     "output_type": "stream",
     "text": [
      "8it [00:00, 12.95it/s]\n"
     ]
    },
    {
     "name": "stdout",
     "output_type": "stream",
     "text": [
      "Step 30, Accuracy: 1.0000\n",
      "Epoch 5\n"
     ]
    },
    {
     "name": "stderr",
     "output_type": "stream",
     "text": [
      "8it [00:00, 14.47it/s]\n"
     ]
    },
    {
     "name": "stdout",
     "output_type": "stream",
     "text": [
      "Epoch 6\n"
     ]
    },
    {
     "name": "stderr",
     "output_type": "stream",
     "text": [
      "1it [00:00,  6.54it/s]"
     ]
    },
    {
     "name": "stdout",
     "output_type": "stream",
     "text": [
      "Step 40, Accuracy: 1.0000\n"
     ]
    },
    {
     "name": "stderr",
     "output_type": "stream",
     "text": [
      "8it [00:00, 12.47it/s]\n"
     ]
    },
    {
     "name": "stdout",
     "output_type": "stream",
     "text": [
      "Epoch 7\n"
     ]
    },
    {
     "name": "stderr",
     "output_type": "stream",
     "text": [
      "6it [00:00, 10.10it/s]"
     ]
    },
    {
     "name": "stdout",
     "output_type": "stream",
     "text": [
      "Step 50, Accuracy: 1.0000\n"
     ]
    },
    {
     "name": "stderr",
     "output_type": "stream",
     "text": [
      "8it [00:00, 10.69it/s]\n"
     ]
    },
    {
     "name": "stdout",
     "output_type": "stream",
     "text": [
      "Epoch 8\n"
     ]
    },
    {
     "name": "stderr",
     "output_type": "stream",
     "text": [
      "6it [00:00, 11.16it/s]"
     ]
    },
    {
     "name": "stdout",
     "output_type": "stream",
     "text": [
      "Step 60, Accuracy: 1.0000\n"
     ]
    },
    {
     "name": "stderr",
     "output_type": "stream",
     "text": [
      "8it [00:00, 12.14it/s]\n"
     ]
    },
    {
     "name": "stdout",
     "output_type": "stream",
     "text": [
      "Epoch 9\n"
     ]
    },
    {
     "name": "stderr",
     "output_type": "stream",
     "text": [
      "8it [00:00, 12.31it/s]\n"
     ]
    },
    {
     "name": "stdout",
     "output_type": "stream",
     "text": [
      "Step 70, Accuracy: 1.0000\n",
      "Epoch 10\n"
     ]
    },
    {
     "name": "stderr",
     "output_type": "stream",
     "text": [
      "8it [00:00, 13.79it/s]\n"
     ]
    },
    {
     "data": {
      "text/plain": [
       "[<matplotlib.lines.Line2D at 0x79277003c7f0>]"
      ]
     },
     "execution_count": 6,
     "metadata": {},
     "output_type": "execute_result"
    },
    {
     "data": {
      "image/png": "[encoded data removed]",
      "text/plain": [
       "<Figure size 640x480 with 1 Axes>"
      ]
     },
     "metadata": {},
     "output_type": "display_data"
    }
   ],
   "source": [
    "from LR import SSLR\n",
    "import matplotlib.pyplot as plt\n",
    "\n",
    "model = SSLR(devices, approx=False)\n",
    "accs = model.fit(X_train, y_train, X_test, y_test, n_epochs=10, batch_size=1024, val_steps=10, lr=0.1)\n",
    "model.save({\n",
    "    'company': '../models/lr_company',\n",
    "    'partner': '../models/lr_partner',\n",
    "},ext='csv')\n",
    "plt.plot(accs,label = \"SSLR\",color = \"blue\")\n"
   ]
  }
 ],
 "metadata": {
  "kernelspec": {
   "display_name": "sf",
   "language": "python",
   "name": "python3"
  },
  "language_info": {
   "codemirror_mode": {
    "name": "ipython",
    "version": 3
   },
   "file_extension": ".py",
   "mimetype": "text/x-python",
   "name": "python",
   "nbconvert_exporter": "python",
   "pygments_lexer": "ipython3",
   "version": "3.10.18"
  }
 },
 "nbformat": 4,
 "nbformat_minor": 5
}
