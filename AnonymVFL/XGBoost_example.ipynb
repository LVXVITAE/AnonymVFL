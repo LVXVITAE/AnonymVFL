{
 "cells": [
  {
   "cell_type": "markdown",
   "id": "f3d2d756",
   "metadata": {},
   "source": [
    "# XGBoost运行示例"
   ]
  },
  {
   "cell_type": "markdown",
   "id": "089337be",
   "metadata": {},
   "source": [
    "以下示例仅用于说明XGBoost的工作流程，目前仅支持单机测试。"
   ]
  },
  {
   "cell_type": "markdown",
   "id": "692091d0",
   "metadata": {},
   "source": [
    "初始化mpc设备"
   ]
  },
  {
   "cell_type": "code",
   "execution_count": null,
   "id": "b4847a51",
   "metadata": {},
   "outputs": [
    {
     "name": "stderr",
     "output_type": "stream",
     "text": [
      "/home/lvx_vitae/anaconda3/envs/sf/lib/python3.10/site-packages/tqdm/auto.py:21: TqdmWarning: IProgress not found. Please update jupyter and ipywidgets. See https://ipywidgets.readthedocs.io/en/stable/user_install.html\n",
      "  from .autonotebook import tqdm as notebook_tqdm\n",
      "2025-09-17 15:59:30,469\tINFO util.py:154 -- Missing packages: ['ipywidgets']. Run `pip install -U ipywidgets`, then restart the notebook server for rich notebook output.\n",
      "2025-09-17 15:59:30,694\tINFO util.py:154 -- Missing packages: ['ipywidgets']. Run `pip install -U ipywidgets`, then restart the notebook server for rich notebook output.\n",
      "/home/lvx_vitae/anaconda3/envs/sf/lib/python3.10/subprocess.py:1796: RuntimeWarning: os.fork() was called. os.fork() is incompatible with multithreaded code, and JAX is multithreaded, so this will likely lead to a deadlock.\n",
      "  self.pid = _posixsubprocess.fork_exec(\n",
      "/home/lvx_vitae/anaconda3/envs/sf/lib/python3.10/subprocess.py:1796: RuntimeWarning: os.fork() was called. os.fork() is incompatible with multithreaded code, and JAX is multithreaded, so this will likely lead to a deadlock.\n",
      "  self.pid = _posixsubprocess.fork_exec(\n",
      "2025-09-17 15:59:32,879\tINFO worker.py:1841 -- Started a local Ray instance.\n"
     ]
    },
    {
     "name": "stdout",
     "output_type": "stream",
     "text": [
      "\u001b[36m(SPURuntime pid=454839)\u001b[0m 2025-09-17 15:59:36.649 [warning] [openssl_factory.cc:OpensslDrbg:83] Yacl has been configured to use Yacl's entropy source, but unable to find one. Fallback to use openssl's default entropy srouce\n",
      "\u001b[36m(SPURuntime pid=454839)\u001b[0m 2025-09-17 15:59:36.650 [warning] [openssl_factory.cc:OpensslDrbg:83] Yacl has been configured to use Yacl's entropy source, but unable to find one. Fallback to use openssl's default entropy srouce\n"
     ]
    },
    {
     "name": "stderr",
     "output_type": "stream",
     "text": [
      "\u001b[36m(pyu_fn pid=454850)\u001b[0m /home/lvx_vitae/AnonymVFL/AnonymVFL/XGBoost.py:659: VisibleDeprecationWarning: Creating an ndarray from ragged nested sequences (which is a list-or-tuple of lists-or-tuples-or ndarrays with different lengths or shapes) is deprecated. If you meant to do this, you must specify 'dtype=object' when creating the ndarray.\n",
      "\u001b[36m(pyu_fn pid=454850)\u001b[0m   buckets = np.array(buckets)\n"
     ]
    },
    {
     "name": "stdout",
     "output_type": "stream",
     "text": [
      "\u001b[36m(HEUSkKeeper(heu_id=139663987472656, party=company) pid=454849)\u001b[0m [2025-09-17 15:59:39.869] [info] [thread_pool.cc:30] Create a fixed thread pool with size 15\n",
      "\u001b[36m(HEUEvaluator(heu_id=139663957687648, party=company) pid=454848)\u001b[0m [2025-09-17 15:59:46.584] [info] [thread_pool.cc:30] Create a fixed thread pool with size 15\u001b[32m [repeated 3x across cluster]\u001b[0m\n"
     ]
    },
    {
     "name": "stderr",
     "output_type": "stream",
     "text": [
      "\u001b[36m(pyu_fn pid=454850)\u001b[0m 2025-09-17 16:05:06,420,420 INFO [xla_bridge.py:backends:863] Unable to initialize backend 'cuda': \n",
      "\u001b[36m(pyu_fn pid=454850)\u001b[0m 2025-09-17 16:05:06,420,420 INFO [xla_bridge.py:backends:863] Unable to initialize backend 'rocm': module 'jaxlib.xla_extension' has no attribute 'GpuAllocatorConfig'\n",
      "\u001b[36m(pyu_fn pid=454850)\u001b[0m 2025-09-17 16:05:06,421,421 INFO [xla_bridge.py:backends:863] Unable to initialize backend 'tpu': INTERNAL: Failed to open libtpu.so: libtpu.so: cannot open shared object file: No such file or directory\n",
      "\u001b[36m(pyu_fn pid=454850)\u001b[0m 2025-09-17 16:05:06,421,421 WARNING [xla_bridge.py:_suggest_missing_backends:901] An NVIDIA GPU may be present on this machine, but a CUDA-enabled jaxlib is not installed. Falling back to cpu.\n"
     ]
    },
    {
     "name": "stdout",
     "output_type": "stream",
     "text": [
      "\u001b[36m(pyu_fn pid=454850)\u001b[0m [2025-09-17 16:05:06.435] [info] [thread_pool.cc:30] Create a fixed thread pool with size 15\n",
      "\u001b[36m(pyu_fn pid=454850)\u001b[0m [2025-09-17 16:05:06.449] [warning] [openssl_factory.cc:83] Yacl has been configured to use Yacl's entropy source, but unable to find one. Fallback to use openssl's default entropy srouce\n",
      "\u001b[36m(pyu_fn pid=454850)\u001b[0m [2025-09-17 16:05:06.451] [warning] [openssl_factory.cc:83] Yacl has been configured to use Yacl's entropy source, but unable to find one. Fallback to use openssl's default entropy srouce\n",
      "\u001b[36m(SPURuntime(device_id=None, party=company) pid=454839)\u001b[0m 2025-09-17 16:05:08.368 [info] [thread_pool.cc:ThreadPool:30] Create a fixed thread pool with size 15\n"
     ]
    },
    {
     "name": "stderr",
     "output_type": "stream",
     "text": [
      "\u001b[36m(pyu_fn pid=454842)\u001b[0m 2025-09-17 16:05:08,614,614 INFO [xla_bridge.py:backends:863] Unable to initialize backend 'cuda': \n",
      "\u001b[36m(pyu_fn pid=454842)\u001b[0m 2025-09-17 16:05:08,614,614 INFO [xla_bridge.py:backends:863] Unable to initialize backend 'rocm': module 'jaxlib.xla_extension' has no attribute 'GpuAllocatorConfig'\n",
      "\u001b[36m(pyu_fn pid=454842)\u001b[0m 2025-09-17 16:05:08,615,615 INFO [xla_bridge.py:backends:863] Unable to initialize backend 'tpu': INTERNAL: Failed to open libtpu.so: libtpu.so: cannot open shared object file: No such file or directory\n",
      "\u001b[36m(pyu_fn pid=454842)\u001b[0m 2025-09-17 16:05:08,615,615 INFO [xla_bridge.py:backends:863] Unable to initialize backend 'interpreter': jaxlib.xla_extension.Client: no constructor defined!\n",
      "\u001b[36m(pyu_fn pid=454842)\u001b[0m 2025-09-17 16:05:08,615,615 WARNING [xla_bridge.py:_suggest_missing_backends:901] An NVIDIA GPU may be present on this machine, but a CUDA-enabled jaxlib is not installed. Falling back to cpu.\n"
     ]
    },
    {
     "name": "stdout",
     "output_type": "stream",
     "text": [
      "\u001b[36m(pyu_fn pid=454842)\u001b[0m [2025-09-17 16:05:08.730] [warning] [openssl_factory.cc:83] Yacl has been configured to use Yacl's entropy source, but unable to find one. Fallback to use openssl's default entropy srouce\n",
      "\u001b[36m(pyu_fn pid=454842)\u001b[0m [2025-09-17 16:05:08.731] [warning] [openssl_factory.cc:83] Yacl has been configured to use Yacl's entropy source, but unable to find one. Fallback to use openssl's default entropy srouce\n"
     ]
    },
    {
     "name": "stderr",
     "output_type": "stream",
     "text": [
      "\u001b[36m(pyu_fn pid=454845)\u001b[0m 2025-09-17 16:07:00,279,279 INFO [xla_bridge.py:backends:863] Unable to initialize backend 'cuda': \n",
      "\u001b[36m(pyu_fn pid=454845)\u001b[0m 2025-09-17 16:07:00,280,280 INFO [xla_bridge.py:backends:863] Unable to initialize backend 'rocm': module 'jaxlib.xla_extension' has no attribute 'GpuAllocatorConfig'\n",
      "\u001b[36m(pyu_fn pid=454845)\u001b[0m 2025-09-17 16:07:00,281,281 INFO [xla_bridge.py:backends:863] Unable to initialize backend 'tpu': INTERNAL: Failed to open libtpu.so: libtpu.so: cannot open shared object file: No such file or directory\n",
      "\u001b[36m(pyu_fn pid=454845)\u001b[0m 2025-09-17 16:07:00,281,281 INFO [xla_bridge.py:backends:863] Unable to initialize backend 'interpreter': jaxlib.xla_extension.Client: no constructor defined!\n",
      "\u001b[36m(pyu_fn pid=454845)\u001b[0m 2025-09-17 16:07:00,281,281 WARNING [xla_bridge.py:_suggest_missing_backends:901] An NVIDIA GPU may be present on this machine, but a CUDA-enabled jaxlib is not installed. Falling back to cpu.\n"
     ]
    },
    {
     "name": "stdout",
     "output_type": "stream",
     "text": [
      "\u001b[36m(SPURuntime(device_id=None, party=partner) pid=454844)\u001b[0m 2025-09-17 16:05:08.377 [info] [thread_pool.cc:ThreadPool:30] Create a fixed thread pool with size 15\u001b[32m [repeated 2x across cluster]\u001b[0m\n",
      "\u001b[36m(pyu_fn pid=454845)\u001b[0m [2025-09-17 16:07:00.290] [warning] [openssl_factory.cc:83] Yacl has been configured to use Yacl's entropy source, but unable to find one. Fallback to use openssl's default entropy srouce\u001b[32m [repeated 2x across cluster]\u001b[0m\n"
     ]
    },
    {
     "name": "stderr",
     "output_type": "stream",
     "text": [
      "\u001b[33m(raylet)\u001b[0m [2025-09-17 16:12:32,899 E 454722 454722] node_manager.cc:3178: 3 Workers (tasks / actors) killed due to memory pressure (OOM), 0 Workers crashed due to other reasons at node (ID: ba03d4d29b9113af7cc672d55c6040a7a4ee18a4517c008bed6bc77a, IP: 192.168.10.9) over the last time period. To see more information about the Workers killed on this node, use `ray logs raylet.out -ip 192.168.10.9`\n",
      "\u001b[33m(raylet)\u001b[0m \n",
      "\u001b[33m(raylet)\u001b[0m Refer to the documentation on how to address the out of memory issue: https://docs.ray.io/en/latest/ray-core/scheduling/ray-oom-prevention.html. Consider provisioning more memory on this node or reducing task parallelism by requesting more CPUs per task. To adjust the kill threshold, set the environment variable `RAY_memory_usage_threshold` when starting Ray. To disable worker killing, set the environment variable `RAY_memory_monitor_refresh_ms` to zero.\n",
      "\u001b[33m(raylet)\u001b[0m \n",
      "\u001b[33m(raylet)\u001b[0m [2025-09-17 16:13:32,901 E 454722 454722] node_manager.cc:3178: 1 Workers (tasks / actors) killed due to memory pressure (OOM), 0 Workers crashed due to other reasons at node (ID: ba03d4d29b9113af7cc672d55c6040a7a4ee18a4517c008bed6bc77a, IP: 192.168.10.9) over the last time period. To see more information about the Workers killed on this node, use `ray logs raylet.out -ip 192.168.10.9`\n",
      "\u001b[33m(raylet)\u001b[0m Refer to the documentation on how to address the out of memory issue: https://docs.ray.io/en/latest/ray-core/scheduling/ray-oom-prevention.html. Consider provisioning more memory on this node or reducing task parallelism by requesting more CPUs per task. To adjust the kill threshold, set the environment variable `RAY_memory_usage_threshold` when starting Ray. To disable worker killing, set the environment variable `RAY_memory_monitor_refresh_ms` to zero.\n"
     ]
    }
   ],
   "source": [
    "from common import MPCInitializer\n",
    "import secretflow as sf\n",
    "mpc_init = MPCInitializer()\n",
    "company, partner, coordinator = mpc_init.company, mpc_init.partner, mpc_init.coordinator\n",
    "spu = mpc_init.spu\n",
    "\n",
    "# 设置设备\n",
    "devices = {\n",
    "    'spu': spu,\n",
    "    'company': company,\n",
    "    'partner': partner,\n",
    "    'coordinator': coordinator,\n",
    "}\n",
    "\n",
    "heu_devices = (mpc_init.company_heu, mpc_init.partner_heu)"
   ]
  },
  {
   "cell_type": "markdown",
   "id": "6fbad8d0",
   "metadata": {},
   "source": [
    "双方读取数据集。数据集为csv格式，应包含id列\"id\"和标签列\"y\"。id列为字符串，其他列为数值型特征。\n",
    "\n",
    "将键值和特征分开读取。"
   ]
  },
  {
   "cell_type": "code",
   "execution_count": 2,
   "id": "1af8ed5f",
   "metadata": {},
   "outputs": [],
   "source": [
    "import pandas as pd\n",
    "import os\n",
    "import numpy as np\n",
    "project_dir = os.path.dirname(os.path.abspath(''))\n",
    "\n",
    "def read_dataset(path: str):\n",
    "    data = pd.read_csv(path)\n",
    "    keys = data['id'].astype(str).tolist()\n",
    "    private_features = data.drop(columns=['id']).to_numpy(dtype=np.float32)\n",
    "    header = data.columns.tolist()\n",
    "    return keys, private_features, header\n",
    "company_keys, company_features, company_header = company(read_dataset,num_returns=3)(os.path.join(project_dir, 'Datasets/data/data/breast_hetero_host.csv'))\n",
    "partner_keys, partner_features, partner_header = partner(read_dataset,num_returns=3)(os.path.join(project_dir, 'Datasets/data/data/breast_hetero_guest.csv'))\n",
    "company_header = sf.reveal(company_header)\n",
    "partner_header = sf.reveal(partner_header)\n",
    "# active_party一般为标签的持有者\n",
    "if 'y' in company_header:\n",
    "    devices['active_party'] = company\n",
    "elif 'y' in partner_header:\n",
    "    devices['active_party'] = partner\n",
    "else:\n",
    "    raise ValueError(\"标签列'y'未找到\")\n",
    "#输出交集的列标题\n",
    "header = company_header[1:] + partner_header[1:]\n",
    "#记录标签列的索引\n",
    "y_col = header.index('y')"
   ]
  },
  {
   "cell_type": "markdown",
   "id": "650ffeb2",
   "metadata": {},
   "source": [
    "XGBoost需要在PSI开始之前预先分桶"
   ]
  },
  {
   "cell_type": "code",
   "execution_count": 3,
   "id": "0c4c9c40",
   "metadata": {},
   "outputs": [],
   "source": [
    "from XGBoost import quantize_buckets\n",
    "import numpy as np\n",
    "K_quantiles = 20\n",
    "Quantiles1, _, buckets_labels1 = company(quantize_buckets,num_returns=3)(company_features, k=K_quantiles)\n",
    "partner_train_features = partner(lambda features: features[:,:-1])(partner_features)\n",
    "Quantiles2, _, buckets_labels2 = partner(quantize_buckets,num_returns=3)(partner_train_features, k=K_quantiles) #最后一列是y无需分桶"
   ]
  },
  {
   "cell_type": "markdown",
   "id": "6a8b859f",
   "metadata": {},
   "source": [
    "分位点合并为联邦数组形式"
   ]
  },
  {
   "cell_type": "code",
   "execution_count": 4,
   "id": "503ddd49",
   "metadata": {},
   "outputs": [],
   "source": [
    "from secretflow.data.ndarray import load\n",
    "from secretflow.data import PartitionWay\n",
    "FedQuantiles = load({company: Quantiles1, partner: Quantiles2}, partition_way=PartitionWay.HORIZONTAL)"
   ]
  },
  {
   "cell_type": "markdown",
   "id": "902f50bd",
   "metadata": {},
   "source": [
    "将key,feature和bucket_label整合到一个元组中"
   ]
  },
  {
   "cell_type": "code",
   "execution_count": 5,
   "id": "0b108870",
   "metadata": {},
   "outputs": [],
   "source": [
    "def make_triplet(x,y,z):\n",
    "    return (x,y,z)\n",
    "\n",
    "company_data = company(make_triplet)(company_keys,company_features,buckets_labels1)\n",
    "partner_data = partner(make_triplet)(partner_keys,partner_features,buckets_labels2)"
   ]
  },
  {
   "cell_type": "markdown",
   "id": "d1b681db",
   "metadata": {},
   "source": [
    "执行PSI\n",
    "\n",
    "求交后得到交集共享分片，分别由company和partner持有。原本company数据的特征在share的左侧，partner数据的特征在右侧。"
   ]
  },
  {
   "cell_type": "code",
   "execution_count": 6,
   "id": "4c23b751",
   "metadata": {},
   "outputs": [
    {
     "name": "stdout",
     "output_type": "stream",
     "text": [
      "Computing masked company cipher\n",
      "Computing masked partner cipher\n",
      "Computing company shares\n",
      "Computing partner shares\n"
     ]
    },
    {
     "data": {
      "text/plain": [
       "<secretflow.device.device.pyu.PYUObject at 0x7f060c4170a0>"
      ]
     },
     "execution_count": 6,
     "metadata": {},
     "output_type": "execute_result"
    }
   ],
   "source": [
    "from PSI import private_set_intersection\n",
    "company_share, partner_share, bucket_labels = private_set_intersection(company_data, partner_data,heu_devices)\n",
    "company_share.device(np.savetxt)('../company_share.csv',company_share, delimiter=',')\n",
    "partner_share.device(np.savetxt)('../partner_share.csv',partner_share, delimiter=',')"
   ]
  },
  {
   "cell_type": "markdown",
   "id": "648df6e2",
   "metadata": {},
   "source": [
    "将交集的分桶标签恢复为桶"
   ]
  },
  {
   "cell_type": "code",
   "execution_count": 7,
   "id": "34ebf7c8",
   "metadata": {},
   "outputs": [
    {
     "name": "stderr",
     "output_type": "stream",
     "text": [
      "/home/lvx_vitae/AnonymVFL/AnonymVFL/XGBoost.py:673: VisibleDeprecationWarning: Creating an ndarray from ragged nested sequences (which is a list-or-tuple of lists-or-tuples-or ndarrays with different lengths or shapes) is deprecated. If you meant to do this, you must specify 'dtype=object' when creating the ndarray.\n",
      "  return np.array(buckets)\n"
     ]
    }
   ],
   "source": [
    "from XGBoost import recover_buckets\n",
    "buckets = recover_buckets(bucket_labels)"
   ]
  },
  {
   "cell_type": "markdown",
   "id": "c3644a9b",
   "metadata": {},
   "source": [
    "将训练集转移到对应设备"
   ]
  },
  {
   "cell_type": "code",
   "execution_count": 8,
   "id": "969feb76",
   "metadata": {},
   "outputs": [],
   "source": [
    "def split_X_y(share):\n",
    "    X = np.delete(share, y_col, axis=1)\n",
    "    y = share[:, y_col].reshape(-1, 1)\n",
    "    return X, y\n",
    "\n",
    "def share2spu(company_share, partner_share):\n",
    "    company_share = company_share.to(spu)\n",
    "    partner_share = partner_share.to(spu)\n",
    "    return spu(lambda x, y : x + y)(company_share, partner_share)\n",
    "\n",
    "X_train_company, y_train_company = company(split_X_y,num_returns=2)(company_share)\n",
    "X_train_partner, y_train_partner = partner(split_X_y,num_returns=2)(partner_share)\n",
    "X_train = share2spu(X_train_company, X_train_partner)\n",
    "y_train = devices['active_party'](lambda x, y : x + y)(y_train_company.to(devices['active_party']), y_train_partner.to(devices['active_party']))\n"
   ]
  },
  {
   "cell_type": "markdown",
   "id": "1433f192",
   "metadata": {},
   "source": [
    "读取验证集"
   ]
  },
  {
   "cell_type": "code",
   "execution_count": 9,
   "id": "7303ecb0",
   "metadata": {},
   "outputs": [],
   "source": [
    "def read_val_dataset(path):\n",
    "    data = pd.read_csv(path)\n",
    "    private_features = data.iloc[:, 1:].to_numpy(dtype=np.float32)\n",
    "    return private_features\n",
    "X_test_company = company(read_val_dataset)(os.path.join(project_dir, 'Datasets/data/data/breast_hetero_host_test.csv'))\n",
    "X_test_partner = partner(read_val_dataset)(os.path.join(project_dir, 'Datasets/data/data/breast_hetero_guest_test.csv'))\n",
    "X_test_partner, y_test = partner(lambda arr : (arr[:,:-1], arr[:,-1].reshape(-1,1)),num_returns=2)(X_test_partner)\n",
    "X_test = load({company: X_test_company, partner: X_test_partner})\n"
   ]
  },
  {
   "cell_type": "markdown",
   "id": "0749cd26",
   "metadata": {},
   "source": [
    "训练"
   ]
  },
  {
   "cell_type": "code",
   "execution_count": 10,
   "id": "691d6ee8",
   "metadata": {},
   "outputs": [
    {
     "name": "stderr",
     "output_type": "stream",
     "text": [
      "WARNING:jax._src.xla_bridge:An NVIDIA GPU may be present on this machine, but a CUDA-enabled jaxlib is not installed. Falling back to cpu.\n"
     ]
    },
    {
     "name": "stdout",
     "output_type": "stream",
     "text": [
      "Aggregating buckets for each feature...\n"
     ]
    },
    {
     "name": "stderr",
     "output_type": "stream",
     "text": [
      "100%|██████████| 60/60 [00:07<00:00,  8.34it/s]\n"
     ]
    },
    {
     "name": "stdout",
     "output_type": "stream",
     "text": [
      "Calculating gradient split info...\n"
     ]
    },
    {
     "name": "stderr",
     "output_type": "stream",
     "text": [
      "100%|██████████| 60/60 [00:24<00:00,  2.44it/s]\n"
     ]
    },
    {
     "name": "stdout",
     "output_type": "stream",
     "text": [
      "Selecting best split ...\n",
      "Aggregating buckets for each feature...\n"
     ]
    },
    {
     "name": "stderr",
     "output_type": "stream",
     "text": [
      "100%|██████████| 60/60 [00:09<00:00,  6.23it/s]\n"
     ]
    },
    {
     "name": "stdout",
     "output_type": "stream",
     "text": [
      "Calculating gradient split info...\n"
     ]
    },
    {
     "name": "stderr",
     "output_type": "stream",
     "text": [
      "100%|██████████| 60/60 [00:22<00:00,  2.67it/s]\n"
     ]
    },
    {
     "name": "stdout",
     "output_type": "stream",
     "text": [
      "Selecting best split ...\n",
      "Aggregating buckets for each feature...\n"
     ]
    },
    {
     "name": "stderr",
     "output_type": "stream",
     "text": [
      "100%|██████████| 60/60 [00:09<00:00,  6.20it/s]\n"
     ]
    },
    {
     "name": "stdout",
     "output_type": "stream",
     "text": [
      "Calculating gradient split info...\n"
     ]
    },
    {
     "name": "stderr",
     "output_type": "stream",
     "text": [
      "100%|██████████| 60/60 [00:22<00:00,  2.64it/s]\n"
     ]
    },
    {
     "name": "stdout",
     "output_type": "stream",
     "text": [
      "Selecting best split ...\n",
      "==== Iteration 0 ====\n",
      "Train Loss: 992.5536, Accuracy: 0.9453\n",
      "Validating test dataset...\n",
      "Test Loss: 329.0292, Accuracy: 0.9432\n",
      "Aggregating buckets for each feature...\n"
     ]
    },
    {
     "name": "stderr",
     "output_type": "stream",
     "text": [
      "100%|██████████| 60/60 [00:07<00:00,  8.39it/s]\n"
     ]
    },
    {
     "name": "stdout",
     "output_type": "stream",
     "text": [
      "Calculating gradient split info...\n"
     ]
    },
    {
     "name": "stderr",
     "output_type": "stream",
     "text": [
      "100%|██████████| 60/60 [00:24<00:00,  2.41it/s]\n"
     ]
    },
    {
     "name": "stdout",
     "output_type": "stream",
     "text": [
      "Selecting best split ...\n",
      "Aggregating buckets for each feature...\n"
     ]
    },
    {
     "name": "stderr",
     "output_type": "stream",
     "text": [
      "100%|██████████| 60/60 [00:10<00:00,  5.83it/s]\n"
     ]
    },
    {
     "name": "stdout",
     "output_type": "stream",
     "text": [
      "Calculating gradient split info...\n"
     ]
    },
    {
     "name": "stderr",
     "output_type": "stream",
     "text": [
      "100%|██████████| 60/60 [00:24<00:00,  2.48it/s]\n"
     ]
    },
    {
     "name": "stdout",
     "output_type": "stream",
     "text": [
      "Selecting best split ...\n",
      "Aggregating buckets for each feature...\n"
     ]
    },
    {
     "name": "stderr",
     "output_type": "stream",
     "text": [
      "100%|██████████| 60/60 [00:09<00:00,  6.02it/s]\n"
     ]
    },
    {
     "name": "stdout",
     "output_type": "stream",
     "text": [
      "Calculating gradient split info...\n"
     ]
    },
    {
     "name": "stderr",
     "output_type": "stream",
     "text": [
      "100%|██████████| 60/60 [00:23<00:00,  2.58it/s]\n"
     ]
    },
    {
     "name": "stdout",
     "output_type": "stream",
     "text": [
      "Selecting best split ...\n",
      "==== Iteration 1 ====\n",
      "Train Loss: 467.3027, Accuracy: 0.9496\n",
      "Validating test dataset...\n",
      "Test Loss: 154.9385, Accuracy: 0.9488\n"
     ]
    }
   ],
   "source": [
    "from XGBoost import SSXGBoost\n",
    "model = SSXGBoost(devices=devices, max_depth=2, n_estimators=2, div=False)\n",
    "\n",
    "train_accs, test_accs = model.fit(X_train, y_train, buckets, FedQuantiles,X_test, y_test)"
   ]
  },
  {
   "cell_type": "markdown",
   "id": "0de2bd9b",
   "metadata": {},
   "source": [
    "绘制准确率曲线"
   ]
  },
  {
   "cell_type": "code",
   "execution_count": 11,
   "id": "d9b886b1",
   "metadata": {},
   "outputs": [
    {
     "data": {
      "text/plain": [
       "<matplotlib.legend.Legend at 0x7f04e41596c0>"
      ]
     },
     "execution_count": 11,
     "metadata": {},
     "output_type": "execute_result"
    },
    {
     "data": {
      "image/png": "[encoded data removed]",
      "text/plain": [
       "<Figure size 640x480 with 1 Axes>"
      ]
     },
     "metadata": {},
     "output_type": "display_data"
    }
   ],
   "source": [
    "import matplotlib.pyplot as plt\n",
    "plt.plot(train_accs,label = \"train_acc\")\n",
    "plt.plot(test_accs,label = \"test_acc\")\n",
    "plt.xlabel(\"nEstimators\")\n",
    "plt.legend()"
   ]
  }
 ],
 "metadata": {
  "kernelspec": {
   "display_name": "sf",
   "language": "python",
   "name": "python3"
  },
  "language_info": {
   "codemirror_mode": {
    "name": "ipython",
    "version": 3
   },
   "file_extension": ".py",
   "mimetype": "text/x-python",
   "name": "python",
   "nbconvert_exporter": "python",
   "pygments_lexer": "ipython3",
   "version": "3.10.18"
  }
 },
 "nbformat": 4,
 "nbformat_minor": 5
}
