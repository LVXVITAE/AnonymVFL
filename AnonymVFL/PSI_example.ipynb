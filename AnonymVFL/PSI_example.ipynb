{
 "cells": [
  {
   "cell_type": "markdown",
   "id": "42f59c67",
   "metadata": {},
   "source": [
    "# PSI运行示例"
   ]
  },
  {
   "cell_type": "markdown",
   "id": "6f4782e7",
   "metadata": {},
   "source": [
    "以下示例仅用于说明PSI的工作流程，目前仅支持单机测试。"
   ]
  },
  {
   "cell_type": "markdown",
   "id": "8bb67ade",
   "metadata": {},
   "source": [
    "加载数据集"
   ]
  },
  {
   "cell_type": "code",
   "execution_count": 1,
   "id": "c1a06d09",
   "metadata": {},
   "outputs": [
    {
     "name": "stdout",
     "output_type": "stream",
     "text": [
      "Host Data:\n",
      "   id         x0        x1        x2        x3        x4        x5         x6  \\\n",
      "0   0  13.406929  1.396708  8.951264 -6.391955 -0.907567  6.952439  15.412624   \n",
      "1   1 -15.119118 -6.659451 -3.972570 -6.783692  2.288610 -8.214613  -1.170056   \n",
      "2   2  -2.344736 -9.145379  6.902479  8.605027  7.654483 -5.199578  10.779235   \n",
      "3   3   7.357845  7.224143  7.794408 -5.304755  2.077003  4.312937   4.674460   \n",
      "4   4   6.915768  3.606743 -2.804147  1.889518 -3.185365 -1.995137   9.173883   \n",
      "\n",
      "          x7         x8  ...       x20       x21        x22       x23  \\\n",
      "0  11.820768   7.576128  ... -3.284186 -5.337557   1.408300  8.788250   \n",
      "1  -4.004517  -6.820910  ... -9.234468 -0.150261  -5.890043 -8.587167   \n",
      "2  -1.351300 -11.478583  ...  1.245020  5.234590   4.306623 -6.161988   \n",
      "3   5.258720   7.626586  ... -1.544057 -4.316854  -3.344796  0.530144   \n",
      "4   3.600453   6.651459  ... -3.524715  1.349833  12.310861 -4.455094   \n",
      "\n",
      "         x24        x25        x26       x27        x28       x29  \n",
      "0   2.744024   3.595109   7.673019 -1.326952   9.268499  0.584147  \n",
      "1  -3.621841  -8.061612   6.663962  5.897501  -6.503219 -2.536026  \n",
      "2   6.066403  -0.390138   3.271931 -3.529145   7.386854 -1.169257  \n",
      "3  10.119743  12.474359   0.073798 -2.361054   6.095032 -6.040535  \n",
      "4   5.248671  11.334165  14.272927 -4.071215  13.147543  8.373090  \n",
      "\n",
      "[5 rows x 31 columns]\n"
     ]
    }
   ],
   "source": [
    "import pandas as pd\n",
    "import os\n",
    "project_dir = os.path.dirname(os.path.abspath(''))\n",
    "data_dir = os.path.join(project_dir, 'Datasets', 'data', 'data')\n",
    "host_data = pd.read_csv(os.path.join(data_dir, 'breast_hetero_host.csv'))\n",
    "guest_data = pd.read_csv(os.path.join(data_dir, 'breast_hetero_guest.csv'))\n",
    "print(\"Host Data:\")\n",
    "print(host_data.head())"
   ]
  },
  {
   "cell_type": "markdown",
   "id": "c014fe51",
   "metadata": {},
   "source": [
    "服务端、客户端加载数据"
   ]
  },
  {
   "cell_type": "code",
   "execution_count": 2,
   "id": "16258474",
   "metadata": {},
   "outputs": [
    {
     "name": "stdout",
     "output_type": "stream",
     "text": [
      "[2025-08-12 21:41:46.397] [info] [thread_pool.cc:30] Create a fixed thread pool with size 31\n"
     ]
    }
   ],
   "source": [
    "from PSI import PSICompany, PSIPartner\n",
    "\n",
    "company_key, company_features = host_data['id'], host_data.drop(columns=['id'])\n",
    "partner_key, partner_features = guest_data['id'], guest_data.drop(columns=['id'])\n",
    "company_key = company_key.astype(str)\n",
    "partner_key = partner_key.astype(str)\n",
    "company = PSICompany(company_key, company_features)\n",
    "partner = PSIPartner(partner_key, partner_features)\n"
   ]
  },
  {
   "cell_type": "markdown",
   "id": "acad489a",
   "metadata": {},
   "source": [
    "服务端加密并交换公钥"
   ]
  },
  {
   "cell_type": "code",
   "execution_count": 3,
   "id": "dd06525e",
   "metadata": {},
   "outputs": [],
   "source": [
    "U_c, company_pk = company.exchange()\n",
    "# 将服务端公钥发送给客户端（TODO）"
   ]
  },
  {
   "cell_type": "markdown",
   "id": "411f0936",
   "metadata": {},
   "source": [
    "客户端加密、交换公钥、重排服务端数据"
   ]
  },
  {
   "cell_type": "code",
   "execution_count": 4,
   "id": "6e8cb36a",
   "metadata": {},
   "outputs": [
    {
     "name": "stdout",
     "output_type": "stream",
     "text": [
      "Computing masked company cipher\n"
     ]
    }
   ],
   "source": [
    "E_c, U_p, partner_pk = partner.exchange(U_c, company_pk)\n",
    "# 将客户端公钥发送给服务端（TODO）"
   ]
  },
  {
   "cell_type": "markdown",
   "id": "e32622cf",
   "metadata": {},
   "source": [
    "服务端计算交集，输出交集碎片"
   ]
  },
  {
   "cell_type": "code",
   "execution_count": 5,
   "id": "6145b54f",
   "metadata": {},
   "outputs": [
    {
     "name": "stdout",
     "output_type": "stream",
     "text": [
      "Computing masked partner cipher\n",
      "Computing company shares\n"
     ]
    }
   ],
   "source": [
    "L, R_cI = company.compute_intersection(E_c, U_p, partner_pk)\n",
    "# 将L和R_cI发送给客户端（TODO）"
   ]
  },
  {
   "cell_type": "markdown",
   "id": "1e21e05a",
   "metadata": {},
   "source": [
    "客户端输出交集碎片"
   ]
  },
  {
   "cell_type": "code",
   "execution_count": 6,
   "id": "c8efc173",
   "metadata": {},
   "outputs": [
    {
     "name": "stdout",
     "output_type": "stream",
     "text": [
      "Computing partner shares\n"
     ]
    }
   ],
   "source": [
    "R_pI = partner.output_shares(L)"
   ]
  },
  {
   "cell_type": "markdown",
   "id": "288abd0a",
   "metadata": {},
   "source": [
    "获取交集碎片\n",
    "\n",
    "注意：Company所持有属性在share矩阵左边，Partner所持有属性在右边。"
   ]
  },
  {
   "cell_type": "code",
   "execution_count": 7,
   "id": "17c97806",
   "metadata": {},
   "outputs": [],
   "source": [
    "company_share = R_cI[0]\n",
    "partner_share = R_pI[0]\n"
   ]
  },
  {
   "cell_type": "markdown",
   "id": "de415f24",
   "metadata": {},
   "source": [
    "恢复并打印交集"
   ]
  },
  {
   "cell_type": "code",
   "execution_count": 8,
   "id": "b63cce66",
   "metadata": {},
   "outputs": [
    {
     "name": "stdout",
     "output_type": "stream",
     "text": [
      "[[  4.482732   7.606706   8.232204 ...  -0.068126  -9.833931   0.      ]\n",
      " [ 10.212381  -0.151352  12.701536 ...  -7.421358  -5.325319   1.      ]\n",
      " [  3.180015   6.39739    7.509831 ...  -3.4305    -0.523406   0.      ]\n",
      " ...\n",
      " [  5.743327   0.06047    2.378849 ...   9.842905 -13.84182    0.      ]\n",
      " [ 13.039767  -5.216417   3.895059 ...   1.43436   -3.497174   1.      ]\n",
      " [ -8.576518  -4.080317   0.216021 ...   1.195891  -3.983099   0.      ]]\n"
     ]
    }
   ],
   "source": [
    "R_I = company_share + partner_share\n",
    "print(R_I)"
   ]
  }
 ],
 "metadata": {
  "kernelspec": {
   "display_name": "Python 3",
   "language": "python",
   "name": "python3"
  },
  "language_info": {
   "codemirror_mode": {
    "name": "ipython",
    "version": 3
   },
   "file_extension": ".py",
   "mimetype": "text/x-python",
   "name": "python",
   "nbconvert_exporter": "python",
   "pygments_lexer": "ipython3",
   "version": "3.10.12"
  }
 },
 "nbformat": 4,
 "nbformat_minor": 5
}
