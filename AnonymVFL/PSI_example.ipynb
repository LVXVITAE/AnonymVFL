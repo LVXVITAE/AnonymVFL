{
 "cells": [
  {
   "cell_type": "markdown",
   "id": "42f59c67",
   "metadata": {},
   "source": [
    "# PSI运行示例"
   ]
  },
  {
   "cell_type": "markdown",
   "id": "6f4782e7",
   "metadata": {},
   "source": [
    "以下示例仅用于说明PSI的工作流程，目前仅支持单机测试。"
   ]
  },
  {
   "cell_type": "markdown",
   "id": "8bb67ade",
   "metadata": {},
   "source": [
    "加载数据集"
   ]
  },
  {
   "cell_type": "code",
   "execution_count": null,
   "id": "c1a06d09",
   "metadata": {},
   "outputs": [],
   "source": [
    "import pandas as pd\n",
    "import os\n",
    "project_dir = os.path.dirname(os.path.abspath(''))\n",
    "data_dir = os.path.join(project_dir, 'Datasets', 'data', 'data')\n",
    "host_data = pd.read_csv(os.path.join(data_dir, 'breast_hetero_host.csv'))\n",
    "guest_data = pd.read_csv(os.path.join(data_dir, 'breast_hetero_guest.csv'))\n",
    "print(\"Host Data:\")\n",
    "print(host_data.head())"
   ]
  },
  {
   "cell_type": "markdown",
   "id": "c014fe51",
   "metadata": {},
   "source": [
    "服务端、客户端加载数据"
   ]
  },
  {
   "cell_type": "code",
   "execution_count": null,
   "id": "16258474",
   "metadata": {},
   "outputs": [],
   "source": [
    "from PSI import PSICompany, PSIPartner\n",
    "\n",
    "company_key, company_features = host_data['id'], host_data.drop(columns=['id'])\n",
    "partner_key, partner_features = guest_data['id'], guest_data.drop(columns=['id'])\n",
    "company_key = company_key.astype(str)\n",
    "partner_key = partner_key.astype(str)\n",
    "company = PSICompany(company_key, company_features)\n",
    "partner = PSIPartner(partner_key, partner_features)\n"
   ]
  },
  {
   "cell_type": "markdown",
   "id": "acad489a",
   "metadata": {},
   "source": [
    "服务端加密并交换公钥"
   ]
  },
  {
   "cell_type": "code",
   "execution_count": null,
   "id": "dd06525e",
   "metadata": {},
   "outputs": [],
   "source": [
    "U_c, company_pk = company.exchange()\n",
    "# 将服务端公钥发送给客户端（TODO）"
   ]
  },
  {
   "cell_type": "markdown",
   "id": "411f0936",
   "metadata": {},
   "source": [
    "客户端加密、交换公钥、重排服务端数据"
   ]
  },
  {
   "cell_type": "code",
   "execution_count": null,
   "id": "6e8cb36a",
   "metadata": {},
   "outputs": [],
   "source": [
    "E_c, U_p, partner_pk = partner.exchange(U_c, company_pk)\n",
    "# 将客户端公钥发送给服务端（TODO）"
   ]
  },
  {
   "cell_type": "markdown",
   "id": "e32622cf",
   "metadata": {},
   "source": [
    "服务端计算交集，输出交集碎片"
   ]
  },
  {
   "cell_type": "code",
   "execution_count": null,
   "id": "6145b54f",
   "metadata": {},
   "outputs": [],
   "source": [
    "L, R_cI = company.compute_intersection(E_c, U_p, partner_pk)\n",
    "# 将L和R_cI发送给客户端（TODO）"
   ]
  },
  {
   "cell_type": "markdown",
   "id": "1e21e05a",
   "metadata": {},
   "source": [
    "客户端输出交集碎片"
   ]
  },
  {
   "cell_type": "code",
   "execution_count": null,
   "id": "c8efc173",
   "metadata": {},
   "outputs": [],
   "source": [
    "R_pI = partner.output_shares(L)"
   ]
  },
  {
   "cell_type": "markdown",
   "id": "288abd0a",
   "metadata": {},
   "source": [
    "获取交集碎片\n",
    "\n",
    "注意：Company所持有属性在share矩阵左边，Partner所持有属性在右边。"
   ]
  },
  {
   "cell_type": "code",
   "execution_count": null,
   "id": "17c97806",
   "metadata": {},
   "outputs": [],
   "source": [
    "company_share = R_cI[0]\n",
    "partner_share = R_pI[0]\n"
   ]
  },
  {
   "cell_type": "markdown",
   "id": "de415f24",
   "metadata": {},
   "source": [
    "恢复并打印交集"
   ]
  },
  {
   "cell_type": "code",
   "execution_count": null,
   "id": "b63cce66",
   "metadata": {},
   "outputs": [],
   "source": [
    "R_I = company_share + partner_share\n",
    "print(R_I)"
   ]
  }
 ],
 "metadata": {
  "kernelspec": {
   "display_name": "Python 3",
   "language": "python",
   "name": "python3"
  },
  "language_info": {
   "codemirror_mode": {
    "name": "ipython",
    "version": 3
   },
   "file_extension": ".py",
   "mimetype": "text/x-python",
   "name": "python",
   "nbconvert_exporter": "python",
   "pygments_lexer": "ipython3",
   "version": "3.12.11"
  }
 },
 "nbformat": 4,
 "nbformat_minor": 5
}
