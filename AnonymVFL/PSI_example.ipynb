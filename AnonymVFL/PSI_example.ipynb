{
 "cells": [
  {
   "cell_type": "markdown",
   "id": "42f59c67",
   "metadata": {},
   "source": [
    "# PSI运行示例"
   ]
  },
  {
   "cell_type": "markdown",
   "id": "d711c75b",
   "metadata": {},
   "source": [
    "初始化mpc设备"
   ]
  },
  {
   "cell_type": "code",
   "execution_count": 1,
   "id": "d0f91026",
   "metadata": {},
   "outputs": [
    {
     "name": "stderr",
     "output_type": "stream",
     "text": [
      "/home/lvx_vitae/AnonymVFL/.conda/lib/python3.10/subprocess.py:1796: RuntimeWarning: os.fork() was called. os.fork() is incompatible with multithreaded code, and JAX is multithreaded, so this will likely lead to a deadlock.\n",
      "  self.pid = _posixsubprocess.fork_exec(\n",
      "/home/lvx_vitae/AnonymVFL/.conda/lib/python3.10/subprocess.py:1796: RuntimeWarning: os.fork() was called. os.fork() is incompatible with multithreaded code, and JAX is multithreaded, so this will likely lead to a deadlock.\n",
      "  self.pid = _posixsubprocess.fork_exec(\n",
      "2025-08-24 23:13:40,881\tINFO worker.py:1841 -- Started a local Ray instance.\n"
     ]
    },
    {
     "name": "stdout",
     "output_type": "stream",
     "text": [
      "\u001b[36m(SPURuntime pid=36220)\u001b[0m 2025-08-24 23:13:44.379 [warning] [openssl_factory.cc:OpensslDrbg:83] Yacl has been configured to use Yacl's entropy source, but unable to find one. Fallback to use openssl's default entropy srouce\n",
      "\u001b[36m(SPURuntime pid=36220)\u001b[0m 2025-08-24 23:13:44.380 [warning] [openssl_factory.cc:OpensslDrbg:83] Yacl has been configured to use Yacl's entropy source, but unable to find one. Fallback to use openssl's default entropy srouce\n"
     ]
    },
    {
     "name": "stdout",
     "output_type": "stream",
     "text": [
      "\u001b[36m(HEUSkKeeper(heu_id=132092266173664, party=company) pid=36228)\u001b[0m [2025-08-24 23:13:51.970] [info] [thread_pool.cc:30] Create a fixed thread pool with size 15\n",
      "\u001b[36m(HEUEvaluator(heu_id=132091855203408, party=company) pid=36218)\u001b[0m [2025-08-24 23:13:53.333] [info] [thread_pool.cc:30] Create a fixed thread pool with size 15\n"
     ]
    }
   ],
   "source": [
    "from common import MPCInitializer\n",
    "import secretflow as sf\n",
    "mpc_init = MPCInitializer()\n",
    "company, partner = mpc_init.company,mpc_init.partner\n",
    "heu_devices = (mpc_init.company_heu, mpc_init.partner_heu)"
   ]
  },
  {
   "cell_type": "markdown",
   "id": "6f4782e7",
   "metadata": {},
   "source": [
    "以下示例仅用于说明PSI的工作流程，目前仅支持单机测试。"
   ]
  },
  {
   "cell_type": "markdown",
   "id": "8bb67ade",
   "metadata": {},
   "source": [
    "双方读取数据集。应将键值和特征分开读取。"
   ]
  },
  {
   "cell_type": "code",
   "execution_count": 2,
   "id": "c1a06d09",
   "metadata": {},
   "outputs": [],
   "source": [
    "import pandas as pd\n",
    "import os\n",
    "import numpy as np\n",
    "project_dir = os.path.dirname(os.path.abspath(''))\n",
    "data_dir = os.path.join(project_dir, 'Datasets', 'PSI')\n",
    "\n",
    "def read_dataset(path: str):\n",
    "    data = pd.read_csv(path)\n",
    "    keys = data.iloc[:, 0].tolist()\n",
    "    private_features = data.iloc[:, 1:].to_numpy(dtype=np.float32)\n",
    "    return (keys, private_features,None)\n",
    "company_data = company(read_dataset)(os.path.join(data_dir, 'company_data.csv'))\n",
    "partner_data = partner(read_dataset)(os.path.join(data_dir, 'partner_data.csv'))"
   ]
  },
  {
   "cell_type": "markdown",
   "id": "6b793e41",
   "metadata": {},
   "source": [
    "执行PSI\n",
    "\n",
    "求交后得到交集共享分片，分别由company和partner持有。原本company数据的特征在share的左侧，partner数据的特征在右侧。"
   ]
  },
  {
   "cell_type": "code",
   "execution_count": 3,
   "id": "ef82eaa6",
   "metadata": {},
   "outputs": [
    {
     "name": "stdout",
     "output_type": "stream",
     "text": [
      "Computing masked company cipher\n",
      "Computing masked partner cipher\n",
      "Computing company shares\n",
      "Computing partner shares\n"
     ]
    }
   ],
   "source": [
    "from PSI import private_set_intersection\n",
    "company_share, partner_share, bucket_labels = private_set_intersection(company_data, partner_data,heu_devices)"
   ]
  },
  {
   "cell_type": "markdown",
   "id": "9bff164d",
   "metadata": {},
   "source": [
    "结果比较"
   ]
  },
  {
   "cell_type": "code",
   "execution_count": 4,
   "id": "33dfbaf2",
   "metadata": {},
   "outputs": [
    {
     "name": "stdout",
     "output_type": "stream",
     "text": [
      "Real Intersection: [[96.94997288 94.94783572 45.7531272  91.97591751  6.40621559]\n",
      " [49.26746318 41.47538697 14.44682987 33.89487272 99.77746512]\n",
      " [97.20440369 85.14677116 76.61730259 74.54188118 91.99566983]\n",
      " [99.33640613 60.24766471 75.91638368 10.36925581 66.76225286]\n",
      " [99.5435931  14.6643015  92.38456288 28.50034193 94.4518885 ]]\n",
      "PSI intersection: [[96.94997406 94.94783783 45.75312805 91.975914    6.40621567]\n",
      " [99.54359436 14.66430187 92.38455963 28.50034142 94.45188904]\n",
      " [97.20440674 85.14677429 76.61730194 74.54187775 91.9956665 ]\n",
      " [49.26746368 41.47538757 14.4468298  33.89487457 99.77746582]\n",
      " [99.33640289 60.24766541 75.91638184 10.36925602 66.76225281]]\n"
     ]
    }
   ],
   "source": [
    "real_intersection = pd.read_csv(os.path.join(data_dir, 'intersection.csv'))\n",
    "real_intersection = real_intersection.iloc[:, 1:].to_numpy()\n",
    "print(\"Real Intersection:\", real_intersection)\n",
    "\n",
    "company_share = sf.reveal(company_share)\n",
    "partner_share = sf.reveal(partner_share)\n",
    "print(\"PSI intersection:\",company_share + partner_share)"
   ]
  }
 ],
 "metadata": {
  "kernelspec": {
   "display_name": "Python 3",
   "language": "python",
   "name": "python3"
  },
  "language_info": {
   "codemirror_mode": {
    "name": "ipython",
    "version": 3
   },
   "file_extension": ".py",
   "mimetype": "text/x-python",
   "name": "python",
   "nbconvert_exporter": "python",
   "pygments_lexer": "ipython3",
   "version": "3.10.18"
  }
 },
 "nbformat": 4,
 "nbformat_minor": 5
}
